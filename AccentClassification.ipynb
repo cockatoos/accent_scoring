{
 "cells": [
  {
   "cell_type": "code",
   "execution_count": 58,
   "metadata": {},
   "outputs": [],
   "source": [
    "import pandas as pd       \n",
    "import os \n",
    "import math \n",
    "import numpy as np\n",
    "import matplotlib.pyplot as plt\n",
    "import librosa\n",
    "from pydub import AudioSegment, silence\n",
    "from pydub.silence import split_on_silence\n",
    "import torch\n",
    "import torch.nn as nn\n",
    "import pickle\n",
    "import torch.optim as optim\n",
    "from torch.utils.data import Dataset, DataLoader\n",
    "from pathlib import Path"
   ]
  },
  {
   "cell_type": "code",
   "execution_count": 2,
   "metadata": {},
   "outputs": [],
   "source": [
    "class MFCCDataset(Dataset):\n",
    "    def __init__(self, root_dir):\n",
    "        self.root_dir = root_dir\n",
    "              \n",
    "        self.mfccs = []\n",
    "        self.labels = []\n",
    "        \n",
    "        for i in range(len(os.listdir(self.root_dir))):\n",
    "\n",
    "            f = os.listdir(self.root_dir)[i]\n",
    "            with open(self.root_dir / f, 'rb') as handle:\n",
    "                entry = pickle.load(handle)\n",
    "            self.mfccs.append(entry['data'])\n",
    "            self.labels.extend(entry['labels'])\n",
    "        \n",
    "        self.mfccs = torch.from_numpy(np.vstack(self.mfccs).reshape(-1,3,20,22)).float()\n",
    "        self.labels = torch.tensor(self.labels, dtype=torch.float)\n",
    "    \n",
    "    def __len__(self):\n",
    "        \n",
    "        return len(self.mfccs)\n",
    "\n",
    "    def __getitem__(self, idx):\n",
    "        \n",
    "        return self.mfccs[idx], self.labels[idx]"
   ]
  },
  {
   "cell_type": "code",
   "execution_count": 3,
   "metadata": {},
   "outputs": [],
   "source": [
    "speaker_csv = Path('C:/Users/omar_/Documents/cockatoos/data/accent_samples/speakers_all.csv')\n",
    "speakers_df = pd.read_csv(speaker_csv)"
   ]
  },
  {
   "cell_type": "code",
   "execution_count": 4,
   "metadata": {},
   "outputs": [
    {
     "name": "stdout",
     "output_type": "stream",
     "text": [
      "579\n",
      "198\n",
      "Number of english accent files: 579\n",
      "Number of other accent files: 198\n",
      "Number of training files: 400\n",
      "Number of validaiton files: 100\n",
      "Number of test files: 96\n"
     ]
    }
   ],
   "source": [
    "original_dir = Path('C:/Users/omar_/Documents/cockatoos/data/accent_samples/recordings/recordings')\n",
    "train_dir =  Path('C:/Users/omar_/Documents/cockatoos/data/train')\n",
    "val_dir =  Path('C:/Users/omar_/Documents/cockatoos/data/val')\n",
    "test_dir =  Path('C:/Users/omar_/Documents/cockatoos/data/test')\n",
    "\n",
    "files = os.listdir(original_dir)\n",
    "\n",
    "\n",
    "other_accent_types = [\"mandarin\", \"japanese\", \"korean\", \"taiwanese\", \"cantonese\", \"thai\", \"indonesian\"]\n",
    "\n",
    "english_accent_files = []\n",
    "other_accent_files = []\n",
    "\n",
    "num_train_files = 200\n",
    "num_val_files = 50\n",
    "num_test_files = 48\n",
    "\n",
    "# num_train_files = 50\n",
    "# num_val_files = 19\n",
    "# num_test_files = 19\n",
    "\n",
    "end_idx_train = num_train_files\n",
    "end_idx_val = end_idx_train + num_val_files\n",
    "end_idx_test = end_idx_val + num_test_files\n",
    "\n",
    "\n",
    "# for i in range(len(speakers_df)):\n",
    "#     if df.loc[i]['file_missing?'] == False:\n",
    "#         country = df.loc[i]['country']\n",
    "#         if country == \"usa\":\n",
    "#             english_accent_files.append(f\"{df.loc[i]['filename']}.mp3\")\n",
    "#         elif country == \"china\":\n",
    "#             other_accent_files.append(f\"{df.loc[i]['filename']}.mp3\")\n",
    "\n",
    "for f in files:\n",
    "    if \"english\" in f:\n",
    "        english_accent_files.append(f)\n",
    "    \n",
    "    if any(t in f for t in other_accent_types):\n",
    "        other_accent_files.append(f)\n",
    "\n",
    "\n",
    "print(len(english_accent_files))\n",
    "print(len(other_accent_files))\n",
    "\n",
    "np.random.seed(100)\n",
    "np.random.shuffle(english_accent_files)\n",
    "np.random.shuffle(other_accent_files)\n",
    "        \n",
    "print(f\"Number of english accent files: {len(english_accent_files)}\")\n",
    "print(f\"Number of other accent files: {len(other_accent_files)}\")\n",
    "\n",
    "idxs = np.random.randint(100, size=100)\n",
    "oversampled_other = other_accent_files[:100]\n",
    "\n",
    "for n in idxs:\n",
    "    oversampled_other.append(other_accent_files[n])\n",
    "\n",
    "# train_files = english_accent_files[0:end_idx_train] + other_accent_files[0:end_idx_train]\n",
    "# val_files   = english_accent_files[end_idx_train:end_idx_val] + other_accent_files[end_idx_train:end_idx_val]\n",
    "# test_files  = english_accent_files[end_idx_val:end_idx_test] + other_accent_files[end_idx_val:end_idx_test]\n",
    "\n",
    "train_files = english_accent_files[0:end_idx_train] + oversampled_other\n",
    "val_files   = english_accent_files[200:250] + other_accent_files[100:150]\n",
    "test_files  = english_accent_files[250:298] + other_accent_files[150:]\n",
    "\n",
    "print(f\"Number of training files: {len(train_files)}\")\n",
    "print(f\"Number of validaiton files: {len(val_files)}\")\n",
    "print(f\"Number of test files: {len(test_files)}\")"
   ]
  },
  {
   "cell_type": "code",
   "execution_count": 79,
   "metadata": {},
   "outputs": [],
   "source": [
    "def generate_dataset(df, files, size):\n",
    "    count1 = 0\n",
    "    count2 = 0\n",
    "    for i in range(len(df)):\n",
    "        if df.loc[i]['accent'] == 'us' and count1 < size:\n",
    "            files.append((df.loc[i]['filename'], 0))\n",
    "            count1 += 1\n",
    "        elif df.loc[i]['accent'] == 'indian' and count2 < size:\n",
    "            files.append((df.loc[i]['filename'], 1))\n",
    "            count2 += 1\n",
    "\n",
    "        if count1 == size and count2 == size:\n",
    "            break\n",
    "    return files"
   ]
  },
  {
   "cell_type": "code",
   "execution_count": 94,
   "metadata": {},
   "outputs": [
    {
     "name": "stdout",
     "output_type": "stream",
     "text": [
      "Number of training files: 8000\n",
      "Number of validaiton files: 160\n",
      "Number of test files: 160\n"
     ]
    }
   ],
   "source": [
    "#Data setup for kaggle common voice dataset\n",
    "\n",
    "data_train_src =  Path('C:/Users/omar_/Documents/kaggle_voice/archive (1)/cv-valid-train')\n",
    "data_val_src=  Path('C:/Users/omar_/Documents/kaggle_voice/archive (1)/cv-valid-dev')\n",
    "data_test_src =  Path('C:/Users/omar_/Documents/kaggle_voice/archive (1)/cv-valid-test')\n",
    "\n",
    "train_csv = Path('C:/Users/omar_/Documents/kaggle_voice/archive (1)/cv-valid-train.csv')\n",
    "val_csv = Path('C:/Users/omar_/Documents/kaggle_voice/archive (1)/cv-valid-dev.csv')\n",
    "test_csv = Path('C:/Users/omar_/Documents/kaggle_voice/archive (1)/cv-valid-test.csv')\n",
    "\n",
    "train_files = []\n",
    "val_files = []\n",
    "test_files = []\n",
    "\n",
    "train_df = pd.read_csv(train_csv)\n",
    "val_df = pd.read_csv(val_csv)\n",
    "test_df = pd.read_csv(test_csv)\n",
    "\n",
    "generate_dataset(train_df, train_files, 4000)\n",
    "generate_dataset(val_df, val_files, 80)\n",
    "generate_dataset(test_df, test_files, 80)\n",
    "        \n",
    "\n",
    "print(f\"Number of training files: {len(train_files)}\")\n",
    "print(f\"Number of validaiton files: {len(val_files)}\")\n",
    "print(f\"Number of test files: {len(test_files)}\")"
   ]
  },
  {
   "cell_type": "code",
   "execution_count": 6,
   "metadata": {},
   "outputs": [],
   "source": [
    "  def generate_mfcc_data(mfcc):\n",
    "        mfcc_standardized = np.zeros(mfcc.shape)\n",
    "        for b in range(mfcc.shape[0]):\n",
    "            mfcc_slice = mfcc[b,:]\n",
    "            centered = mfcc_slice - np.mean(mfcc_slice)\n",
    "            if np.std(centered) != 0:\n",
    "                centered_scaled = centered / np.std(centered)\n",
    "\n",
    "            mfcc_standardized[b,:] = centered_scaled\n",
    "\n",
    "        delta1 = librosa.feature.delta(mfcc_standardized, order=1)\n",
    "        delta2 = librosa.feature.delta(mfcc_standardized, order=2)\n",
    "        mfcc_data = np.stack((mfcc_standardized,delta1,delta2))\n",
    "        \n",
    "        return mfcc_data"
   ]
  },
  {
   "cell_type": "code",
   "execution_count": null,
   "metadata": {},
   "outputs": [],
   "source": [
    "# path = Path('C:/Users/omar_/Documents/cockatoos/data/assess')\n",
    "path = Path('C:/Users/omar_/Documents/kaggle_voice/archive (1)/cv-valid-train')\n",
    "for f in [\"cv-valid-train/sample-000023.mp3\"]:\n",
    "    segs = segment_and_standardize_audio(path/ f,100)\n",
    "    #os.mkdir(Path('C:/Users/omar_/Documents/cockatoos') / \"testingg\")\n",
    "    for i in range(len(segs)):      \n",
    "        print(f\"{i}: {np.count_nonzero(segs[i].get_array_of_samples())}\")\n",
    "    for i, s in enumerate(segs):\n",
    "        if i < 10:\n",
    "            prefix = \"00\"\n",
    "        else:\n",
    "            prefix = \"0\"\n",
    "        s.export(Path('C:/Users/omar_/Documents/cockatoos') / \"testingg\" / f\"chunk{prefix}{i}.wav\" , format=\"wav\")"
   ]
  },
  {
   "cell_type": "code",
   "execution_count": 185,
   "metadata": {},
   "outputs": [
    {
     "data": {
      "image/png": "[encoded data removed]",
      "text/plain": [
       "<Figure size 432x288 with 1 Axes>"
      ]
     },
     "metadata": {
      "needs_background": "light"
     },
     "output_type": "display_data"
    }
   ],
   "source": [
    "import matplotlib.pyplot as plt\n",
    "from scipy.io import wavfile as wav\n",
    "sound = AudioSegment.from_mp3(path / \"cv-valid-train/sample-000005.mp3\")\n",
    "sound.export(Path('C:/Users/omar_/Documents/cockatoos') / \"testingg\" / \"test.wav\", format=\"wav\")\n",
    "rate, data = wav.read(Path('C:/Users/omar_/Documents/cockatoos') / \"testingg\" / \"test.wav\" )\n",
    "%matplotlib inline\n",
    "plt.plot(data)\n",
    "plt.show()"
   ]
  },
  {
   "cell_type": "code",
   "execution_count": 23,
   "metadata": {},
   "outputs": [],
   "source": [
    "# def segment_and_standardize_audio(path, seg_thresh):\n",
    "#     sound_file = AudioSegment.from_mp3(path)\n",
    "#     audio_chunks = split_on_silence(sound_file, \n",
    "#         # must be silent for at least half a second\n",
    "#         min_silence_len = 5,\n",
    "\n",
    "#         # consider it silent if quieter than -16 dBFS\n",
    "#         silence_thresh=0\n",
    "#     )\n",
    "#     standardized_chunks = []\n",
    "    \n",
    "#     for seg in audio_chunks:\n",
    "            \n",
    "#         seg_len = len(seg)\n",
    "\n",
    "#         if seg_len >= seg_thresh:\n",
    "#             seg_standardized = seg[0:seg_thresh]\n",
    "#         else:\n",
    "#             seg_standardized = seg + AudioSegment.silent(duration=(seg_thresh - seg_len))\n",
    "        \n",
    "#         standardized_chunks.append(seg_standardized)\n",
    "                \n",
    "    \n",
    "#     return standardized_chunks"
   ]
  },
  {
   "cell_type": "code",
   "execution_count": 78,
   "metadata": {},
   "outputs": [],
   "source": [
    "def segment_and_standardize_audio(path, seg_size):\n",
    "    sound_file = AudioSegment.from_mp3(path)\n",
    "    limit = len(sound_file) // seg_size if len(sound_file) % seg_size == 0 else len(sound_file) // seg_size + 1\n",
    "    chunks = []\n",
    "    for i in range(0,limit):\n",
    "        chunk = sound_file[i * seg_size : (i + 1) * seg_size]\n",
    "        if len(chunk) < seg_size:\n",
    "            chunk = chunk + AudioSegment.silent(duration=(seg_size - len(chunk)))\n",
    "            \n",
    "        if np.count_nonzero(chunk.get_array_of_samples()) > 4500:\n",
    "            chunks.append(chunk)\n",
    "    return chunks"
   ]
  },
  {
   "cell_type": "code",
   "execution_count": 80,
   "metadata": {},
   "outputs": [],
   "source": [
    "def generate_model_data(src, dst, files, train, mean=0, std=1):\n",
    "    \n",
    "    counter = 0\n",
    "    seg_thresh = 500\n",
    "    batch_num = 1\n",
    "    mfccs = []\n",
    "    items = []\n",
    "    labels = []\n",
    "    n_mfcc = 20\n",
    "    \n",
    "    for f in files:\n",
    "        \n",
    "        # use for speech accent archive data\n",
    "            \n",
    "#         if \"english\" in f:\n",
    "#             label = 1\n",
    "#         else:\n",
    "#             label = 0\n",
    "\n",
    "\n",
    "#         audio_chunks = segment_and_standardize_audio(src / f, seg_thresh)\n",
    "\n",
    "     \n",
    "        # use for common voice data\n",
    "        label = f[1]\n",
    "        audio_chunks = segment_and_standardize_audio(src / f[0], seg_thresh)\n",
    "        for seg in audio_chunks:\n",
    "                 \n",
    "            samples = seg.get_array_of_samples()\n",
    "            arr = np.array(samples).astype(np.float32)/32768 # 16 bit \n",
    "            arr = librosa.core.resample(arr, seg.frame_rate, 22050, res_type='kaiser_best') \n",
    "                \n",
    "            mfcc = librosa.feature.mfcc(y=arr, sr=22050, n_mfcc=n_mfcc)\n",
    "            #data = generate_mfcc_data(mfcc)\n",
    "            #items.append(data)\n",
    "            mfccs.append(mfcc)\n",
    "            labels.append(label)\n",
    "            \n",
    "#             if train:\n",
    "#                 noise = np.random.normal(0,1, mfcc.shape)\n",
    "#                 mfcc_noisy = mfcc + noise\n",
    "#                 #noisy_data = generate_mfcc_data(mfcc_noisy)\n",
    "#                 #items.append(noisy_data)\n",
    "#                 mfccs.append(mfcc_noisy)\n",
    "#                 labels.append(label)\n",
    "    \n",
    "    all_data = np.vstack(mfccs).reshape(-1,n_mfcc,22)\n",
    "    if train:\n",
    "        mean = all_data.mean(axis=0)\n",
    "        std = all_data.std(axis=0)\n",
    "        all_data = (all_data - mean) / std\n",
    "    else:\n",
    "        all_data = (all_data - mean) / std\n",
    "    \n",
    "    for j in range(all_data.shape[0]):\n",
    "        d = generate_mfcc_data(all_data[j])\n",
    "        items.append(d)\n",
    "        \n",
    "    max_batch_size = len(labels) // 5\n",
    "    for j in range(0,len(items),max_batch_size):\n",
    "        curr_data = items[j:j + max_batch_size]\n",
    "        curr_labels = labels[j:j + max_batch_size]\n",
    "        batch_mfcc = np.vstack(curr_data).reshape(-1,3,n_mfcc,22)\n",
    "        entry = dict()\n",
    "        entry['data'] = batch_mfcc\n",
    "        entry['labels'] = curr_labels\n",
    "        with open(dst / f'data_batch_{batch_num}.pickle', 'wb') as handle:\n",
    "            pickle.dump(entry, handle, protocol=pickle.HIGHEST_PROTOCOL)\n",
    "        batch_num += 1\n",
    "        \n",
    "    if train:\n",
    "        return mean, std\n",
    "            "
   ]
  },
  {
   "cell_type": "code",
   "execution_count": 95,
   "metadata": {},
   "outputs": [
    {
     "name": "stdout",
     "output_type": "stream",
     "text": [
      "Training words created\n",
      "Validaiton words created\n",
      "Testing words created\n"
     ]
    }
   ],
   "source": [
    "#Uncomment to create the files for the dataset folders (common voice)\n",
    "\n",
    "mean, std = generate_model_data(data_train_src, train_dir, train_files, True)\n",
    "print(\"Training words created\")\n",
    "generate_model_data(data_val_src, val_dir, val_files, False, mean, std)\n",
    "print(\"Validaiton words created\")\n",
    "generate_model_data(data_test_src, test_dir, test_files, False, mean, std)\n",
    "print(\"Testing words created\")"
   ]
  },
  {
   "cell_type": "code",
   "execution_count": 13,
   "metadata": {},
   "outputs": [
    {
     "name": "stdout",
     "output_type": "stream",
     "text": [
      "Training words created\n",
      "Validaiton words created\n",
      "Testing words created\n"
     ]
    }
   ],
   "source": [
    "#Uncomment to create the files for the dataset folders (speech accent archive)\n",
    "\n",
    "mean, std = generate_model_data(original_dir, train_dir, train_files, True)\n",
    "print(\"Training words created\")\n",
    "generate_model_data(original_dir, val_dir, val_files, False, mean, std)\n",
    "print(\"Validaiton words created\")\n",
    "generate_model_data(original_dir, test_dir, test_files, False, mean, std)\n",
    "print(\"Testing words created\")"
   ]
  },
  {
   "cell_type": "code",
   "execution_count": 96,
   "metadata": {},
   "outputs": [],
   "source": [
    "train_data_dir = Path('C:/Users/omar_/Documents/cockatoos/data/train')\n",
    "val_data_dir = Path('C:/Users/omar_/Documents/cockatoos/data/val')\n",
    "test_data_dir = Path('C:/Users/omar_/Documents/cockatoos/data/test')\n",
    "\n",
    "train_data = MFCCDataset(train_data_dir)\n",
    "val_data = MFCCDataset(val_data_dir)\n",
    "# test_data = MFCCDataset(test_data_dir)"
   ]
  },
  {
   "cell_type": "code",
   "execution_count": 14,
   "metadata": {},
   "outputs": [
    {
     "name": "stdout",
     "output_type": "stream",
     "text": [
      "15448\n"
     ]
    }
   ],
   "source": [
    "print(len(train_data))"
   ]
  },
  {
   "cell_type": "code",
   "execution_count": 36,
   "metadata": {},
   "outputs": [
    {
     "name": "stdout",
     "output_type": "stream",
     "text": [
      "30896\n"
     ]
    }
   ],
   "source": [
    "print(len(train_data))"
   ]
  },
  {
   "cell_type": "code",
   "execution_count": 98,
   "metadata": {},
   "outputs": [
    {
     "name": "stdout",
     "output_type": "stream",
     "text": [
      "torch.Size([3, 20, 22])\n"
     ]
    }
   ],
   "source": [
    "print(train_data[0][0].shape)"
   ]
  },
  {
   "cell_type": "code",
   "execution_count": 99,
   "metadata": {},
   "outputs": [],
   "source": [
    "device = torch.device(\"cuda:0\" if torch.cuda.is_available() else \"cpu\")"
   ]
  },
  {
   "cell_type": "code",
   "execution_count": 110,
   "metadata": {},
   "outputs": [],
   "source": [
    "#Model definition\n",
    "model = nn.Sequential(\n",
    "            nn.Conv2d(3,32,3),\n",
    "            nn.ReLU(),\n",
    "            nn.BatchNorm2d(32),\n",
    "            nn.MaxPool2d(2),\n",
    "            nn.Conv2d(32,64,3),\n",
    "            nn.ReLU(),\n",
    "            nn.BatchNorm2d(64),\n",
    "            nn.MaxPool2d(2),\n",
    "            nn.Dropout(0.5),\n",
    "            nn.Flatten(1,3),\n",
    "            nn.Linear(768,300),\n",
    "            nn.Dropout(0.5),\n",
    "            nn.Linear(300,1),\n",
    "            nn.Sigmoid()\n",
    "        ).to(device)"
   ]
  },
  {
   "cell_type": "code",
   "execution_count": 147,
   "metadata": {},
   "outputs": [
    {
     "name": "stdout",
     "output_type": "stream",
     "text": [
      "Sequential(\n",
      "  (0): Conv2d(3, 32, kernel_size=(3, 3), stride=(1, 1))\n",
      "  (1): ReLU()\n",
      "  (2): BatchNorm2d(32, eps=1e-05, momentum=0.1, affine=True, track_running_stats=True)\n",
      "  (3): MaxPool2d(kernel_size=2, stride=2, padding=0, dilation=1, ceil_mode=False)\n",
      "  (4): Conv2d(32, 64, kernel_size=(3, 3), stride=(1, 1))\n",
      "  (5): ReLU()\n",
      "  (6): BatchNorm2d(64, eps=1e-05, momentum=0.1, affine=True, track_running_stats=True)\n",
      "  (7): MaxPool2d(kernel_size=2, stride=2, padding=0, dilation=1, ceil_mode=False)\n",
      "  (8): Dropout(p=0.5, inplace=False)\n",
      "  (9): Flatten(start_dim=1, end_dim=3)\n",
      "  (10): Linear(in_features=768, out_features=128, bias=True)\n",
      "  (11): Dropout(p=0.5, inplace=False)\n",
      "  (12): Linear(in_features=128, out_features=1, bias=True)\n",
      "  (13): Sigmoid()\n",
      ")\n"
     ]
    }
   ],
   "source": [
    "print(model)"
   ]
  },
  {
   "cell_type": "code",
   "execution_count": 111,
   "metadata": {},
   "outputs": [],
   "source": [
    "with torch.no_grad():\n",
    "    torch.cuda.empty_cache()"
   ]
  },
  {
   "cell_type": "code",
   "execution_count": null,
   "metadata": {},
   "outputs": [],
   "source": [
    "train_loader = DataLoader(train_data,batch_size=128,shuffle=True)\n",
    "val_loader = DataLoader(val_data,batch_size=32,shuffle=True)\n",
    "optimizer = optim.Adam(model.parameters(), lr=0.001, weight_decay=1e-4)\n",
    "epochs = 100\n",
    "max_val_acc = 0\n",
    "\n",
    "for epoch in range(epochs):\n",
    "\n",
    "    running_loss = 0\n",
    "    correct = 0\n",
    "    for i, (inputs, labels) in enumerate(train_loader):\n",
    "        model.train()\n",
    "        optimizer.zero_grad()\n",
    "        outputs = model(inputs.to(device))\n",
    "        loss = nn.BCELoss()(outputs,labels.to(device).reshape(-1,1))\n",
    "        running_loss += loss.item()\n",
    "        loss.backward()\n",
    "        optimizer.step()\n",
    "        outputs = outputs.reshape(1, -1)\n",
    "        outputs = outputs.squeeze()\n",
    "        for i in range(outputs.size()[0]):\n",
    "            if (labels[i] == 0 and outputs[i] < 0.5) or (labels[i] == 1 and outputs[i] >= 0.5):\n",
    "                correct += 1\n",
    "\n",
    "    if epoch % 10 == 0:\n",
    "        with torch.no_grad():\n",
    "            model.eval()\n",
    "            val_loss = 0\n",
    "            val_correct = 0\n",
    "            for j, (d,l) in enumerate(val_loader):\n",
    "                o = model(d.to(device))\n",
    "                loss = nn.BCELoss()(o,l.to(device).reshape(-1,1))\n",
    "                val_loss += loss.item()\n",
    "                o = o.reshape(1,-1)\n",
    "                o = o.squeeze()\n",
    "                for i in range(o.size()[0]):\n",
    "                    if (l[i] == 0 and o[i] < 0.5) or (l[i] == 1 and o[i] >= 0.5):\n",
    "                        val_correct += 1\n",
    "\n",
    "            accuracy = 100 * val_correct / len(val_data)\n",
    "            if accuracy > max_val_acc:\n",
    "                print('new record making model!')\n",
    "                max_val_acc = accuracy\n",
    "                #torch.save(model.state_dict(), args.model_path+'/model.pt')\n",
    "            print(f\"Validation loss for epoch {epoch}: {val_loss / len(val_loader)}, accuracy: {accuracy}\")\n",
    "\n",
    "    accuracy = 100 * correct / len(train_data)\n",
    "    print(f\"Epoch:{epoch}, avg loss for epoch:{running_loss / len(train_loader)}, accuracy: {accuracy}\")"
   ]
  },
  {
   "cell_type": "code",
   "execution_count": 41,
   "metadata": {},
   "outputs": [],
   "source": [
    "#Classifying specific set of audio samples\n",
    "def predict(test_dir):\n",
    "    \n",
    "    predictions = dict()\n",
    "    for f in os.listdir(test_dir):\n",
    "        audio_chunks = segment_and_standardize_audio(test_dir / f, 500)\n",
    "        num_english_pred = 0\n",
    "        for seg in audio_chunks:\n",
    "\n",
    "            samples = seg.get_array_of_samples()\n",
    "            arr = np.array(samples).astype(np.float32)/32768 # 16 bit \n",
    "            arr = librosa.core.resample(arr, seg.frame_rate, 22050, res_type='kaiser_best') \n",
    "\n",
    "            mfcc = librosa.feature.mfcc(y=arr, sr=22050)\n",
    "            data = generate_mfcc_data(mfcc)\n",
    "            pred = model(torch.from_numpy(data).unsqueeze(0).float().to(device)).item()\n",
    "            if pred > 0.5:\n",
    "                num_english_pred += 1\n",
    "        \n",
    "        frac_english_preds = num_english_pred / len(audio_chunks)\n",
    "        \n",
    "        if frac_english_preds >= 0.5:\n",
    "            predictions[f] = 1\n",
    "        else:\n",
    "            predictions[f] = 0\n",
    "            \n",
    "    return predictions"
   ]
  },
  {
   "cell_type": "code",
   "execution_count": 93,
   "metadata": {
    "scrolled": true
   },
   "outputs": [
    {
     "name": "stdout",
     "output_type": "stream",
     "text": [
      "4076\n",
      "637\n",
      "89\n"
     ]
    }
   ],
   "source": [
    "import pandas as pd\n",
    "speaker_csv = Path('C:/Users/omar_/Documents/kaggle_voice/archive (1)/cv-valid-dev.csv')\n",
    "df = pd.read_csv(speaker_csv)\n",
    "print(len(df))\n",
    "count = 0\n",
    "#print(df.loc[0])\n",
    "count1 = 0\n",
    "count2 = 0\n",
    "d = dict()\n",
    "count = 0\n",
    "for i in range(len(df)):\n",
    "    if df.loc[i]['accent'] == \"us\":\n",
    "        count1 += 1\n",
    "    elif df.loc[i]['accent'] == \"indian\":\n",
    "        count2 += 1\n",
    "    \n",
    "\n",
    "        \n",
    "    \n",
    "#     if df.loc[i]['accent'] == 'us':\n",
    "#         count1 += 1\n",
    "#     elif df.loc[i]['accent'] == 'indian':\n",
    "#         count2 += 1\n",
    "        \n",
    "print(count1)\n",
    "print(count2)"
   ]
  }
 ],
 "metadata": {
  "kernelspec": {
   "display_name": "test",
   "language": "python",
   "name": "test"
  },
  "language_info": {
   "codemirror_mode": {
    "name": "ipython",
    "version": 3
   },
   "file_extension": ".py",
   "mimetype": "text/x-python",
   "name": "python",
   "nbconvert_exporter": "python",
   "pygments_lexer": "ipython3",
   "version": "3.9.2"
  }
 },
 "nbformat": 4,
 "nbformat_minor": 4
}
