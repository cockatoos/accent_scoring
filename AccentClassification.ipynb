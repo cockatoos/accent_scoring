{
 "cells": [
  {
   "cell_type": "code",
   "execution_count": 2,
   "metadata": {},
   "outputs": [],
   "source": [
    "import pandas as pd       \n",
    "import os \n",
    "import math \n",
    "import numpy as np\n",
    "import matplotlib.pyplot as plt\n",
    "import librosa\n",
    "from pydub import AudioSegment\n",
    "from pydub.silence import split_on_silence\n",
    "import torch\n",
    "import torch.nn as nn\n",
    "import pickle\n",
    "import torch.optim as optim\n",
    "from torch.utils.data import Dataset, DataLoader\n",
    "from pathlib import Path"
   ]
  },
  {
   "cell_type": "code",
   "execution_count": 62,
   "metadata": {},
   "outputs": [],
   "source": [
    "class MFCCDataset(Dataset):\n",
    "    def __init__(self, root_dir):\n",
    "        self.root_dir = root_dir\n",
    "              \n",
    "        self.mfccs = []\n",
    "        self.labels = []\n",
    "        \n",
    "        for i in range(len(os.listdir(self.root_dir))):\n",
    "\n",
    "            f = os.listdir(self.root_dir)[i]\n",
    "            with open(self.root_dir / f, 'rb') as handle:\n",
    "                entry = pickle.load(handle)\n",
    "            self.mfccs.append(entry['data'])\n",
    "            self.labels.extend(entry['labels'])\n",
    "        \n",
    "        self.mfccs = torch.from_numpy(np.vstack(self.mfccs).reshape(-1,3,20,22)).float()\n",
    "        self.labels = torch.tensor(self.labels, dtype=torch.float)\n",
    "    \n",
    "    def __len__(self):\n",
    "        \n",
    "        return len(self.mfccs)\n",
    "\n",
    "    def __getitem__(self, idx):\n",
    "        \n",
    "        return self.mfccs[idx], self.labels[idx]"
   ]
  },
  {
   "cell_type": "code",
   "execution_count": 49,
   "metadata": {},
   "outputs": [
    {
     "name": "stdout",
     "output_type": "stream",
     "text": [
      "Number of english accent files: 579\n",
      "Number of other accent files: 198\n",
      "Number of training files: 300\n",
      "Number of validaiton files: 46\n",
      "Number of test files: 50\n"
     ]
    }
   ],
   "source": [
    "original_dir = Path('C:/Users/omar_/Documents/cockatoos/data/accent_samples/recordings/recordings')\n",
    "train_dir =  Path('C:/Users/omar_/Documents/cockatoos/data/train')\n",
    "val_dir =  Path('C:/Users/omar_/Documents/cockatoos/data/val')\n",
    "test_dir =  Path('C:/Users/omar_/Documents/cockatoos/data/test')\n",
    "\n",
    "files = os.listdir(original_dir)\n",
    "\n",
    "\n",
    "other_accent_types = [\"mandarin\", \"japanese\", \"korean\", \"taiwanese\", \"cantonese\", \"thai\", \"indonesian\"]\n",
    "\n",
    "english_accent_files = []\n",
    "other_accent_files = []\n",
    "\n",
    "num_train_files = 150\n",
    "num_val_files = 23\n",
    "num_test_files = 25\n",
    "\n",
    "end_idx_train = num_train_files\n",
    "end_idx_val = end_idx_train + num_val_files\n",
    "end_idx_test = end_idx_val + num_test_files\n",
    "\n",
    "for f in files:\n",
    "    if \"english\" in f:\n",
    "        english_accent_files.append(f)\n",
    "    \n",
    "    if any(t in f for t in other_accent_types):\n",
    "        other_accent_files.append(f)\n",
    "        \n",
    "np.random.shuffle(english_accent_files)\n",
    "np.random.shuffle(other_accent_files)\n",
    "        \n",
    "print(f\"Number of english accent files: {len(english_accent_files)}\")\n",
    "print(f\"Number of other accent files: {len(other_accent_files)}\")\n",
    "\n",
    "train_files = english_accent_files[0:end_idx_train] + other_accent_files[0:end_idx_train]\n",
    "val_files   = english_accent_files[end_idx_train:end_idx_val] + other_accent_files[end_idx_train:end_idx_val]\n",
    "test_files  = english_accent_files[end_idx_val:end_idx_test] + other_accent_files[end_idx_val:end_idx_test]\n",
    "\n",
    "print(f\"Number of training files: {len(train_files)}\")\n",
    "print(f\"Number of validaiton files: {len(val_files)}\")\n",
    "print(f\"Number of test files: {len(test_files)}\")"
   ]
  },
  {
   "cell_type": "code",
   "execution_count": 4,
   "metadata": {},
   "outputs": [],
   "source": [
    "  def generate_mfcc_data(mfcc):\n",
    "        mfcc_standardized = np.zeros(mfcc.shape)\n",
    "        for b in range(mfcc.shape[0]):\n",
    "            mfcc_slice = mfcc[b,:]\n",
    "            centered = mfcc_slice - np.mean(mfcc_slice)\n",
    "            if np.std(centered) != 0:\n",
    "                centered_scaled = centered / np.std(centered)\n",
    "\n",
    "            mfcc_standardized[b,:] = centered_scaled\n",
    "\n",
    "        delta1 = librosa.feature.delta(mfcc_standardized, order=1)\n",
    "        delta2 = librosa.feature.delta(mfcc_standardized, order=2)\n",
    "        mfcc_data = np.stack((mfcc_standardized,delta1,delta2))\n",
    "        \n",
    "        return mfcc_data"
   ]
  },
  {
   "cell_type": "code",
   "execution_count": 50,
   "metadata": {},
   "outputs": [],
   "source": [
    "def generate_model_data(path, files, train):\n",
    "    \n",
    "    counter = 0\n",
    "    seg_thresh = 500\n",
    "    batch_num = 1\n",
    "    items = []\n",
    "    labels = []\n",
    "    \n",
    "    for f in files:\n",
    "            \n",
    "        if \"english\" in f:\n",
    "            label = 1\n",
    "        else:\n",
    "            label = 0\n",
    "            \n",
    "        sound_file = AudioSegment.from_mp3(original_dir / f)\n",
    "        audio_chunks = split_on_silence(sound_file, \n",
    "            # must be silent for at least half a second\n",
    "            min_silence_len = 80,\n",
    "\n",
    "            # consider it silent if quieter than -16 dBFS\n",
    "            silence_thresh=-30\n",
    "        )\n",
    "\n",
    "        \n",
    "        for seg in audio_chunks:\n",
    "            \n",
    "            seg_len = len(seg)\n",
    "    \n",
    "            if seg_len >= seg_thresh:\n",
    "                seg_standardized = seg[0:seg_thresh]\n",
    "            else:\n",
    "                seg_standardized = seg + AudioSegment.silent(duration=(seg_thresh - seg_len))\n",
    "                \n",
    "                \n",
    "            samples = seg_standardized.get_array_of_samples()\n",
    "            arr = np.array(samples).astype(np.float32)/32768 # 16 bit \n",
    "            arr = librosa.core.resample(arr, seg_standardized.frame_rate, 22050, res_type='kaiser_best') \n",
    "                \n",
    "            mfcc = librosa.feature.mfcc(y=arr, sr=22050)\n",
    "            data = generate_mfcc_data(mfcc)\n",
    "            items.append(data)\n",
    "            labels.append(label)\n",
    "            \n",
    "            if train:\n",
    "                noise = np.random.normal(0,1, mfcc.shape)\n",
    "                mfcc_noisy = mfcc + noise\n",
    "                noisy_data = generate_mfcc_data(mfcc_noisy)\n",
    "                items.append(noisy_data)\n",
    "                labels.append(label)\n",
    "        \n",
    "              \n",
    "    max_batch_size = len(labels) // 5\n",
    "    for j in range(0,len(items),max_batch_size):\n",
    "        curr_data = items[j:j + max_batch_size]\n",
    "        curr_labels = labels[j:j + max_batch_size]\n",
    "        batch_mfcc = np.vstack(curr_data).reshape(-1,3,20,22)\n",
    "        entry = dict()\n",
    "        entry['data'] = batch_mfcc\n",
    "        entry['labels'] = curr_labels\n",
    "        with open(path / f'data_batch_{batch_num}.pickle', 'wb') as handle:\n",
    "            pickle.dump(entry, handle, protocol=pickle.HIGHEST_PROTOCOL)\n",
    "        batch_num += 1\n",
    "            "
   ]
  },
  {
   "cell_type": "code",
   "execution_count": 51,
   "metadata": {},
   "outputs": [
    {
     "name": "stdout",
     "output_type": "stream",
     "text": [
      "Training words created\n",
      "Validaiton words created\n",
      "Testing words created\n"
     ]
    }
   ],
   "source": [
    "#Uncomment to create the files for the dataset folders\n",
    "\n",
    "generate_model_data(train_dir, train_files, True)\n",
    "print(\"Training words created\")\n",
    "generate_model_data(val_dir, val_files, False)\n",
    "print(\"Validaiton words created\")\n",
    "generate_model_data(test_dir, test_files, False)\n",
    "print(\"Testing words created\")"
   ]
  },
  {
   "cell_type": "code",
   "execution_count": 52,
   "metadata": {},
   "outputs": [],
   "source": [
    "train_data_dir = Path('C:/Users/omar_/Documents/cockatoos/data/train')\n",
    "val_data_dir = Path('C:/Users/omar_/Documents/cockatoos/data/val')\n",
    "test_data_dir = Path('C:/Users/omar_/Documents/cockatoos/data/test')\n",
    "\n",
    "train_data = MFCCDataset(train_data_dir)\n",
    "val_data = MFCCDataset(val_data_dir)\n",
    "# test_data = MFCCDataset(test_data_dir)"
   ]
  },
  {
   "cell_type": "code",
   "execution_count": 57,
   "metadata": {},
   "outputs": [
    {
     "name": "stdout",
     "output_type": "stream",
     "text": [
      "torch.Size([3, 20, 22])\n"
     ]
    }
   ],
   "source": [
    "print(train_data[0][0].shape)"
   ]
  },
  {
   "cell_type": "code",
   "execution_count": 54,
   "metadata": {},
   "outputs": [],
   "source": [
    "device = torch.device(\"cuda:0\" if torch.cuda.is_available() else \"cpu\")"
   ]
  },
  {
   "cell_type": "code",
   "execution_count": 55,
   "metadata": {},
   "outputs": [],
   "source": [
    "#Model definition\n",
    "model = nn.Sequential(\n",
    "            nn.Conv2d(3,32,3),\n",
    "            nn.ReLU(),\n",
    "            nn.BatchNorm2d(32),\n",
    "            nn.MaxPool2d(2),\n",
    "            nn.Conv2d(32,64,3),\n",
    "            nn.ReLU(),\n",
    "            nn.BatchNorm2d(64),\n",
    "            nn.MaxPool2d(2),\n",
    "            nn.Dropout(0.5),\n",
    "            nn.Flatten(1,3),\n",
    "            nn.Linear(768,128),\n",
    "            nn.Dropout(0.5),\n",
    "            nn.Linear(128,1),\n",
    "            nn.Softmax(dim=0)\n",
    "        ).to(device)"
   ]
  },
  {
   "cell_type": "code",
   "execution_count": 26,
   "metadata": {},
   "outputs": [
    {
     "name": "stdout",
     "output_type": "stream",
     "text": [
      "Sequential(\n",
      "  (0): Conv2d(3, 32, kernel_size=(3, 3), stride=(1, 1))\n",
      "  (1): ReLU()\n",
      "  (2): BatchNorm2d(32, eps=1e-05, momentum=0.1, affine=True, track_running_stats=True)\n",
      "  (3): MaxPool2d(kernel_size=2, stride=2, padding=0, dilation=1, ceil_mode=False)\n",
      "  (4): Conv2d(32, 64, kernel_size=(3, 3), stride=(1, 1))\n",
      "  (5): ReLU()\n",
      "  (6): BatchNorm2d(64, eps=1e-05, momentum=0.1, affine=True, track_running_stats=True)\n",
      "  (7): MaxPool2d(kernel_size=2, stride=2, padding=0, dilation=1, ceil_mode=False)\n",
      "  (8): Dropout(p=0.5, inplace=False)\n",
      "  (9): Flatten(start_dim=1, end_dim=3)\n",
      "  (10): Linear(in_features=768, out_features=128, bias=True)\n",
      "  (11): Dropout(p=0.5, inplace=False)\n",
      "  (12): Linear(in_features=128, out_features=2, bias=True)\n",
      "  (13): Softmax(dim=0)\n",
      ")\n"
     ]
    }
   ],
   "source": [
    "print(model)"
   ]
  },
  {
   "cell_type": "code",
   "execution_count": 56,
   "metadata": {},
   "outputs": [],
   "source": [
    "with torch.no_grad():\n",
    "    torch.cuda.empty_cache()"
   ]
  },
  {
   "cell_type": "code",
   "execution_count": null,
   "metadata": {},
   "outputs": [],
   "source": [
    "train_loader = DataLoader(train_data,batch_size=32,shuffle=True)\n",
    "val_loader = DataLoader(train_data,batch_size=32)\n",
    "optimizer = optim.Adam(model.parameters(), lr=0.001)\n",
    "epochs = 100\n",
    "\n",
    "for epoch in range(epochs):\n",
    "    \n",
    "    running_loss = 0\n",
    "    \n",
    "    for i, (inputs, labels) in enumerate(train_loader):\n",
    "        optimizer.zero_grad()\n",
    "        outputs = model(inputs.to(device))\n",
    "        loss = nn.BCELoss()(outputs,labels.to(device).reshape(-1,1))\n",
    "        running_loss += loss.item()\n",
    "        loss.backward()\n",
    "        optimizer.step()\n",
    "        \n",
    "    if epoch % 10 == 0:\n",
    "        with torch.no_grad():\n",
    "            val_loss = 0\n",
    "            for j, (d,l) in enumerate(val_loader):\n",
    "                o = model(d.to(device))\n",
    "                loss = nn.BCELoss()(o,l.to(device).reshape(-1,1))\n",
    "                val_loss += loss.item()\n",
    "            print(f\"Validation loss for epoch {epoch}: {val_loss / len(val_loader)}\")\n",
    "        \n",
    "        \n",
    "    print(f\"Epoch:{epoch}, avg loss for epoch:{running_loss / len(train_loader)} \")"
   ]
  }
 ],
 "metadata": {
  "kernelspec": {
   "display_name": "accent_scoring_env",
   "language": "python",
   "name": "accent_scoring_env"
  },
  "language_info": {
   "codemirror_mode": {
    "name": "ipython",
    "version": 3
   },
   "file_extension": ".py",
   "mimetype": "text/x-python",
   "name": "python",
   "nbconvert_exporter": "python",
   "pygments_lexer": "ipython3",
   "version": "3.7.2"
  }
 },
 "nbformat": 4,
 "nbformat_minor": 4
}
