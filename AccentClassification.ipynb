{
 "cells": [
  {
   "cell_type": "code",
   "execution_count": 1,
   "metadata": {},
   "outputs": [],
   "source": [
    "import pandas as pd       \n",
    "import os \n",
    "import math \n",
    "import numpy as np\n",
    "import matplotlib.pyplot as plt\n",
    "import librosa\n",
    "from pydub import AudioSegment, silence\n",
    "from pydub.silence import split_on_silence\n",
    "import torch\n",
    "import torch.nn as nn\n",
    "import pickle\n",
    "import torch.optim as optim\n",
    "from torch.utils.data import Dataset, DataLoader\n",
    "from pathlib import Path"
   ]
  },
  {
   "cell_type": "code",
   "execution_count": 142,
   "metadata": {},
   "outputs": [],
   "source": [
    "class MFCCDataset(Dataset):\n",
    "    def __init__(self, root_dir):\n",
    "        self.root_dir = root_dir\n",
    "              \n",
    "        self.mfccs = []\n",
    "        self.labels = []\n",
    "        \n",
    "        for i in range(len(os.listdir(self.root_dir))):\n",
    "\n",
    "            f = os.listdir(self.root_dir)[i]\n",
    "            with open(self.root_dir / f, 'rb') as handle:\n",
    "                entry = pickle.load(handle)\n",
    "            self.mfccs.append(entry['data'])\n",
    "            self.labels.extend(entry['labels'])\n",
    "        \n",
    "        self.mfccs = torch.from_numpy(np.vstack(self.mfccs).reshape(-1,3,50,44)).float()\n",
    "        self.labels = torch.tensor(self.labels, dtype=torch.float)\n",
    "    \n",
    "    def __len__(self):\n",
    "        \n",
    "        return len(self.mfccs)\n",
    "\n",
    "    def __getitem__(self, idx):\n",
    "        \n",
    "        return self.mfccs[idx], self.labels[idx]"
   ]
  },
  {
   "cell_type": "code",
   "execution_count": 3,
   "metadata": {},
   "outputs": [],
   "source": [
    "speaker_csv = Path('C:/Users/omar_/Documents/cockatoos/data/accent_samples/speakers_all.csv')\n",
    "speakers_df = pd.read_csv(speaker_csv)"
   ]
  },
  {
   "cell_type": "code",
   "execution_count": 30,
   "metadata": {},
   "outputs": [
    {
     "name": "stdout",
     "output_type": "stream",
     "text": [
      "579\n",
      "198\n",
      "Number of english accent files: 579\n",
      "Number of other accent files: 198\n",
      "Number of training files: 400\n",
      "Number of validaiton files: 100\n",
      "Number of test files: 96\n"
     ]
    }
   ],
   "source": [
    "original_dir = Path('C:/Users/omar_/Documents/cockatoos/data/accent_samples/recordings/recordings')\n",
    "train_dir =  Path('C:/Users/omar_/Documents/cockatoos/data/train')\n",
    "val_dir =  Path('C:/Users/omar_/Documents/cockatoos/data/val')\n",
    "test_dir =  Path('C:/Users/omar_/Documents/cockatoos/data/test')\n",
    "\n",
    "files = os.listdir(original_dir)\n",
    "\n",
    "\n",
    "other_accent_types = [\"mandarin\", \"japanese\", \"korean\", \"taiwanese\", \"cantonese\", \"thai\", \"indonesian\"]\n",
    "\n",
    "english_accent_files = []\n",
    "other_accent_files = []\n",
    "\n",
    "num_train_files = 200\n",
    "num_val_files = 50\n",
    "num_test_files = 48\n",
    "\n",
    "# num_train_files = 50\n",
    "# num_val_files = 19\n",
    "# num_test_files = 19\n",
    "\n",
    "end_idx_train = num_train_files\n",
    "end_idx_val = end_idx_train + num_val_files\n",
    "end_idx_test = end_idx_val + num_test_files\n",
    "\n",
    "\n",
    "# for i in range(len(speakers_df)):\n",
    "#     if df.loc[i]['file_missing?'] == False:\n",
    "#         country = df.loc[i]['country']\n",
    "#         if country == \"usa\":\n",
    "#             english_accent_files.append(f\"{df.loc[i]['filename']}.mp3\")\n",
    "#         elif country == \"china\":\n",
    "#             other_accent_files.append(f\"{df.loc[i]['filename']}.mp3\")\n",
    "\n",
    "for f in files:\n",
    "    if \"english\" in f:\n",
    "        english_accent_files.append(f)\n",
    "    \n",
    "    if any(t in f for t in other_accent_types):\n",
    "        other_accent_files.append(f)\n",
    "\n",
    "\n",
    "print(len(english_accent_files))\n",
    "print(len(other_accent_files))\n",
    "\n",
    "np.random.seed(100)\n",
    "np.random.shuffle(english_accent_files)\n",
    "np.random.shuffle(other_accent_files)\n",
    "        \n",
    "print(f\"Number of english accent files: {len(english_accent_files)}\")\n",
    "print(f\"Number of other accent files: {len(other_accent_files)}\")\n",
    "\n",
    "idxs = np.random.randint(100, size=100)\n",
    "oversampled_other = other_accent_files[:100]\n",
    "\n",
    "for n in idxs:\n",
    "    oversampled_other.append(other_accent_files[n])\n",
    "\n",
    "# train_files = english_accent_files[0:end_idx_train] + other_accent_files[0:end_idx_train]\n",
    "# val_files   = english_accent_files[end_idx_train:end_idx_val] + other_accent_files[end_idx_train:end_idx_val]\n",
    "# test_files  = english_accent_files[end_idx_val:end_idx_test] + other_accent_files[end_idx_val:end_idx_test]\n",
    "\n",
    "train_files = english_accent_files[0:end_idx_train] + oversampled_other\n",
    "val_files   = english_accent_files[200:250] + other_accent_files[100:150]\n",
    "test_files  = english_accent_files[250:298] + other_accent_files[150:]\n",
    "\n",
    "print(f\"Number of training files: {len(train_files)}\")\n",
    "print(f\"Number of validaiton files: {len(val_files)}\")\n",
    "print(f\"Number of test files: {len(test_files)}\")"
   ]
  },
  {
   "cell_type": "code",
   "execution_count": 8,
   "metadata": {},
   "outputs": [],
   "source": [
    "def generate_dataset(df, files, size):\n",
    "    count1 = 0\n",
    "    count2 = 0\n",
    "    for i in range(len(df)):\n",
    "        if df.loc[i]['accent'] == 'us' and count1 < size:\n",
    "            files.append((df.loc[i]['filename'], 0))\n",
    "            count1 += 1\n",
    "        elif df.loc[i]['accent'] == 'indian' and count2 < size:\n",
    "            files.append((df.loc[i]['filename'], 1))\n",
    "            count2 += 1\n",
    "\n",
    "        if count1 == size and count2 == size:\n",
    "            break\n",
    "    return files"
   ]
  },
  {
   "cell_type": "code",
   "execution_count": 159,
   "metadata": {},
   "outputs": [
    {
     "name": "stdout",
     "output_type": "stream",
     "text": [
      "Number of training files: 8000\n",
      "Number of validaiton files: 160\n",
      "Number of test files: 160\n"
     ]
    }
   ],
   "source": [
    "#Data setup for kaggle common voice dataset\n",
    "\n",
    "data_train_src =  Path('C:/Users/omar_/Documents/kaggle_voice/archive (1)/cv-valid-train')\n",
    "data_val_src=  Path('C:/Users/omar_/Documents/kaggle_voice/archive (1)/cv-valid-dev')\n",
    "data_test_src =  Path('C:/Users/omar_/Documents/kaggle_voice/archive (1)/cv-valid-test')\n",
    "\n",
    "train_csv = Path('C:/Users/omar_/Documents/kaggle_voice/archive (1)/cv-valid-train.csv')\n",
    "val_csv = Path('C:/Users/omar_/Documents/kaggle_voice/archive (1)/cv-valid-dev.csv')\n",
    "test_csv = Path('C:/Users/omar_/Documents/kaggle_voice/archive (1)/cv-valid-test.csv')\n",
    "\n",
    "train_files = []\n",
    "val_files = []\n",
    "test_files = []\n",
    "\n",
    "train_df = pd.read_csv(train_csv)\n",
    "val_df = pd.read_csv(val_csv)\n",
    "test_df = pd.read_csv(test_csv)\n",
    "\n",
    "generate_dataset(train_df, train_files, 4000)\n",
    "generate_dataset(val_df, val_files, 80)\n",
    "generate_dataset(test_df, test_files, 80)\n",
    "        \n",
    "\n",
    "print(f\"Number of training files: {len(train_files)}\")\n",
    "print(f\"Number of validaiton files: {len(val_files)}\")\n",
    "print(f\"Number of test files: {len(test_files)}\")"
   ]
  },
  {
   "cell_type": "code",
   "execution_count": 52,
   "metadata": {},
   "outputs": [],
   "source": [
    "  def generate_mfcc_data(mfcc):\n",
    "        mfcc_standardized = np.zeros(mfcc.shape)\n",
    "        for b in range(mfcc.shape[0]):\n",
    "            mfcc_slice = mfcc[b,:]\n",
    "            centered = mfcc_slice - np.mean(mfcc_slice)\n",
    "            if np.std(centered) != 0:\n",
    "                centered_scaled = centered / np.std(centered)\n",
    "\n",
    "            mfcc_standardized[b,:] = centered_scaled\n",
    "\n",
    "        delta1 = librosa.feature.delta(mfcc_standardized, order=1)\n",
    "        delta2 = librosa.feature.delta(mfcc_standardized, order=2)\n",
    "        mfcc_data = np.stack((mfcc_standardized,delta1,delta2))\n",
    "        \n",
    "        return mfcc_data"
   ]
  },
  {
   "cell_type": "code",
   "execution_count": 78,
   "metadata": {},
   "outputs": [
    {
     "name": "stdout",
     "output_type": "stream",
     "text": [
      "0: 45515\n",
      "1: 47922\n",
      "2: 47378\n"
     ]
    }
   ],
   "source": [
    "# path = Path('C:/Users/omar_/Documents/cockatoos/data/assess')\n",
    "# path = Path('C:/Users/omar_/Documents/kaggle_voice/archive (1)/cv-valid-train')\n",
    "# for f in [\"cv-valid-train/sample-000023.mp3\"]:\n",
    "#     segs = segment_and_standardize_audio(path/ f,1000)\n",
    "#     #os.mkdir(Path('C:/Users/omar_/Documents/cockatoos') / \"testingg\")\n",
    "#     for i in range(len(segs)):      \n",
    "#         print(f\"{i}: {np.count_nonzero(segs[i].get_array_of_samples())}\")\n",
    "#     for i, s in enumerate(segs):\n",
    "#         if i < 10:\n",
    "#             prefix = \"00\"\n",
    "#         else:\n",
    "#             prefix = \"0\"\n",
    "#         s.export(Path('C:/Users/omar_/Documents/cockatoos') / \"testingg\" / f\"chunk{prefix}{i}.wav\" , format=\"wav\")"
   ]
  },
  {
   "cell_type": "code",
   "execution_count": 76,
   "metadata": {},
   "outputs": [
    {
     "name": "stdout",
     "output_type": "stream",
     "text": [
      "1000\n",
      "(20, 44)\n"
     ]
    }
   ],
   "source": [
    "# print(len(segs[0]))\n",
    "\n",
    "# s = segs[0]\n",
    "# # s = s + AudioSegment.silent(duration=400)\n",
    "# samples = s.get_array_of_samples()\n",
    "# arr = np.array(samples).astype(np.float32)/32768 # 16 bit \n",
    "# arr = librosa.core.resample(arr, s.frame_rate, 22050, res_type='kaiser_best') \n",
    "\n",
    "# mfcc = librosa.feature.mfcc(y=arr, sr=22050, n_mfcc=20)\n",
    "# print(mfcc.shape)"
   ]
  },
  {
   "cell_type": "code",
   "execution_count": 23,
   "metadata": {},
   "outputs": [],
   "source": [
    "# def segment_and_standardize_audio(path, seg_thresh):\n",
    "#     sound_file = AudioSegment.from_mp3(path)\n",
    "#     audio_chunks = split_on_silence(sound_file, \n",
    "#         # must be silent for at least half a second\n",
    "#         min_silence_len = 5,\n",
    "\n",
    "#         # consider it silent if quieter than -16 dBFS\n",
    "#         silence_thresh=0\n",
    "#     )\n",
    "#     standardized_chunks = []\n",
    "    \n",
    "#     for seg in audio_chunks:\n",
    "            \n",
    "#         seg_len = len(seg)\n",
    "\n",
    "#         if seg_len >= seg_thresh:\n",
    "#             seg_standardized = seg[0:seg_thresh]\n",
    "#         else:\n",
    "#             seg_standardized = seg + AudioSegment.silent(duration=(seg_thresh - seg_len))\n",
    "        \n",
    "#         standardized_chunks.append(seg_standardized)\n",
    "                \n",
    "    \n",
    "#     return standardized_chunks"
   ]
  },
  {
   "cell_type": "code",
   "execution_count": 85,
   "metadata": {},
   "outputs": [],
   "source": [
    "def segment_and_standardize_audio(path, seg_size):\n",
    "    sound_file = AudioSegment.from_mp3(path)\n",
    "    limit = len(sound_file) // seg_size if len(sound_file) % seg_size == 0 else len(sound_file) // seg_size + 1\n",
    "    chunks = []\n",
    "    for i in range(0,limit):\n",
    "        chunk = sound_file[i * seg_size : (i + 1) * seg_size]\n",
    "        if len(chunk) < seg_size:\n",
    "            chunk = chunk + AudioSegment.silent(duration=(seg_size - len(chunk)))\n",
    "          \n",
    "\n",
    "        if np.count_nonzero(chunk.get_array_of_samples()) > 45000:\n",
    "            chunks.append(chunk)\n",
    "    return chunks"
   ]
  },
  {
   "cell_type": "code",
   "execution_count": 161,
   "metadata": {},
   "outputs": [],
   "source": [
    "def generate_model_data(src, dst, files, train, mean=0, std=1):\n",
    "    \n",
    "    counter = 0\n",
    "    seg_size = 1000\n",
    "    batch_num = 1\n",
    "    mfccs = []\n",
    "    items = []\n",
    "    labels = []\n",
    "    n_mfcc = 50\n",
    "    mfcc_width = 44\n",
    "    c = 0\n",
    "    \n",
    "    for f in files:\n",
    "        \n",
    "        # use for speech accent archive data\n",
    "            \n",
    "#         if \"english\" in f:\n",
    "#             label = 1\n",
    "#         else:\n",
    "#             label = 0\n",
    "\n",
    "\n",
    "#         audio_chunks = segment_and_standardize_audio(src / f, seg_size)\n",
    "\n",
    "     \n",
    "        # use for common voice data\n",
    "        label = f[1]\n",
    "        audio_chunks = segment_and_standardize_audio(src / f[0], seg_size)\n",
    "        for seg in audio_chunks:\n",
    "                 \n",
    "            samples = seg.get_array_of_samples()\n",
    "            arr = np.array(samples).astype(np.float32)/32768 # 16 bit \n",
    "            arr = librosa.core.resample(arr, seg.frame_rate, 22050, res_type='kaiser_best') \n",
    "                \n",
    "            mfcc = librosa.feature.mfcc(y=arr, sr=22050, n_mfcc=n_mfcc)\n",
    "            mfccs.append(mfcc)\n",
    "            labels.append(label)\n",
    "            \n",
    "        c += 1\n",
    "        if c % 100 == 0:\n",
    "            print(f\"Processed {c} files\")\n",
    "        \n",
    "        \n",
    "            \n",
    "#             if train:\n",
    "#                 noise = np.random.normal(0,1, mfcc.shape)\n",
    "#                 mfcc_noisy = mfcc + noise\n",
    "#                 #noisy_data = generate_mfcc_data(mfcc_noisy)\n",
    "#                 #items.append(noisy_data)\n",
    "#                 mfccs.append(mfcc_noisy)\n",
    "#                 labels.append(label)\n",
    "\n",
    "        \n",
    "    all_data = np.vstack(mfccs).reshape(-1,n_mfcc,mfcc_width)\n",
    "    if train:\n",
    "        mean = all_data.mean(axis=0)\n",
    "        std = all_data.std(axis=0)\n",
    "        all_data = (all_data - mean) / std\n",
    "    else:\n",
    "        all_data = (all_data - mean) / std\n",
    "    \n",
    "    for j in range(all_data.shape[0]):\n",
    "        d = generate_mfcc_data(all_data[j])\n",
    "        items.append(d)\n",
    "    \n",
    "    \n",
    "    batch_size = len(labels) // 6\n",
    "    for j in range(6):\n",
    "        \n",
    "        start = j * batch_size\n",
    "        end = start + batch_size\n",
    "        if j == 5 and len(labels) % 6 != 0:\n",
    "            end = len(labels)\n",
    "        curr_data = items[start:end]\n",
    "        curr_labels = labels[start:end]\n",
    "        batch_mfcc = np.vstack(curr_data).reshape(-1,3,n_mfcc,mfcc_width)\n",
    "        entry = dict()\n",
    "        entry['data'] = batch_mfcc\n",
    "        entry['labels'] = curr_labels\n",
    "        with open(dst / f'data_batch_{j+1}.pickle', 'wb') as handle:\n",
    "            pickle.dump(entry, handle, protocol=pickle.HIGHEST_PROTOCOL)\n",
    "    \n",
    "        \n",
    "    if train:\n",
    "        return mean, std\n",
    "            "
   ]
  },
  {
   "cell_type": "code",
   "execution_count": null,
   "metadata": {},
   "outputs": [],
   "source": [
    "#Uncomment to create the files for the dataset folders (common voice)\n",
    "\n",
    "mean, std = generate_model_data(data_train_src, train_dir, train_files, True)\n",
    "print(\"Training words created\")\n",
    "generate_model_data(data_val_src, val_dir, val_files, False, mean, std)\n",
    "print(\"Validaiton words created\")\n",
    "generate_model_data(data_test_src, test_dir, test_files, False, mean, std)\n",
    "print(\"Testing words created\")"
   ]
  },
  {
   "cell_type": "code",
   "execution_count": 13,
   "metadata": {},
   "outputs": [
    {
     "name": "stdout",
     "output_type": "stream",
     "text": [
      "Training words created\n",
      "Validaiton words created\n",
      "Testing words created\n"
     ]
    }
   ],
   "source": [
    "#Uncomment to create the files for the dataset folders (speech accent archive)\n",
    "\n",
    "mean, std = generate_model_data(original_dir, train_dir, train_files, True)\n",
    "print(\"Training words created\")\n",
    "generate_model_data(original_dir, val_dir, val_files, False, mean, std)\n",
    "print(\"Validaiton words created\")\n",
    "generate_model_data(original_dir, test_dir, test_files, False, mean, std)\n",
    "print(\"Testing words created\")"
   ]
  },
  {
   "cell_type": "code",
   "execution_count": 172,
   "metadata": {},
   "outputs": [],
   "source": [
    "train_data_dir = Path('C:/Users/omar_/Documents/cockatoos/data/train')\n",
    "val_data_dir = Path('C:/Users/omar_/Documents/cockatoos/data/val')\n",
    "test_data_dir = Path('C:/Users/omar_/Documents/cockatoos/data/test')\n",
    "\n",
    "train_data = MFCCDataset(train_data_dir)\n",
    "val_data = MFCCDataset(val_data_dir)\n",
    "test_data = MFCCDataset(test_data_dir)"
   ]
  },
  {
   "cell_type": "code",
   "execution_count": 164,
   "metadata": {},
   "outputs": [
    {
     "name": "stdout",
     "output_type": "stream",
     "text": [
      "24270\n"
     ]
    }
   ],
   "source": [
    "print(len(train_data))"
   ]
  },
  {
   "cell_type": "code",
   "execution_count": 14,
   "metadata": {},
   "outputs": [
    {
     "name": "stdout",
     "output_type": "stream",
     "text": [
      "15448\n"
     ]
    }
   ],
   "source": [
    "print(len(train_data))"
   ]
  },
  {
   "cell_type": "code",
   "execution_count": 36,
   "metadata": {},
   "outputs": [
    {
     "name": "stdout",
     "output_type": "stream",
     "text": [
      "30896\n"
     ]
    }
   ],
   "source": [
    "print(len(train_data))"
   ]
  },
  {
   "cell_type": "code",
   "execution_count": 165,
   "metadata": {},
   "outputs": [
    {
     "name": "stdout",
     "output_type": "stream",
     "text": [
      "torch.Size([3, 50, 44])\n"
     ]
    }
   ],
   "source": [
    "print(train_data[0][0].shape)"
   ]
  },
  {
   "cell_type": "code",
   "execution_count": 70,
   "metadata": {},
   "outputs": [],
   "source": [
    "device = torch.device(\"cuda:0\" if torch.cuda.is_available() else \"cpu\")"
   ]
  },
  {
   "cell_type": "code",
   "execution_count": 168,
   "metadata": {},
   "outputs": [],
   "source": [
    "#Model definition\n",
    "model = nn.Sequential(\n",
    "            nn.Conv2d(3,32,3),\n",
    "            nn.ReLU(),\n",
    "            nn.BatchNorm2d(32),\n",
    "            nn.MaxPool2d(2),\n",
    "            nn.Conv2d(32,64,3),\n",
    "            nn.ReLU(),\n",
    "            nn.BatchNorm2d(64),\n",
    "            nn.MaxPool2d(2),\n",
    "            nn.Dropout(0.5),\n",
    "            nn.Flatten(1,3),\n",
    "            nn.Linear(6336,256),\n",
    "            nn.Dropout(0.5),\n",
    "            nn.Linear(256,1),\n",
    "            nn.Sigmoid()\n",
    "        ).to(device)"
   ]
  },
  {
   "cell_type": "code",
   "execution_count": 169,
   "metadata": {},
   "outputs": [
    {
     "name": "stdout",
     "output_type": "stream",
     "text": [
      "Sequential(\n",
      "  (0): Conv2d(3, 32, kernel_size=(3, 3), stride=(1, 1))\n",
      "  (1): ReLU()\n",
      "  (2): BatchNorm2d(32, eps=1e-05, momentum=0.1, affine=True, track_running_stats=True)\n",
      "  (3): MaxPool2d(kernel_size=2, stride=2, padding=0, dilation=1, ceil_mode=False)\n",
      "  (4): Conv2d(32, 64, kernel_size=(3, 3), stride=(1, 1))\n",
      "  (5): ReLU()\n",
      "  (6): BatchNorm2d(64, eps=1e-05, momentum=0.1, affine=True, track_running_stats=True)\n",
      "  (7): MaxPool2d(kernel_size=2, stride=2, padding=0, dilation=1, ceil_mode=False)\n",
      "  (8): Dropout(p=0.5, inplace=False)\n",
      "  (9): Flatten(start_dim=1, end_dim=3)\n",
      "  (10): Linear(in_features=6336, out_features=256, bias=True)\n",
      "  (11): Dropout(p=0.5, inplace=False)\n",
      "  (12): Linear(in_features=256, out_features=1, bias=True)\n",
      "  (13): Sigmoid()\n",
      ")\n"
     ]
    }
   ],
   "source": [
    "print(model)"
   ]
  },
  {
   "cell_type": "code",
   "execution_count": 170,
   "metadata": {},
   "outputs": [],
   "source": [
    "with torch.no_grad():\n",
    "    torch.cuda.empty_cache()"
   ]
  },
  {
   "cell_type": "code",
   "execution_count": 171,
   "metadata": {},
   "outputs": [
    {
     "name": "stdout",
     "output_type": "stream",
     "text": [
      "new record making model!\n",
      "Validation loss for epoch 0: 0.5938752945512533, accuracy: 67.48466257668711\n",
      "Epoch:0, avg loss for epoch:1.121493252954985, accuracy: 60.88174701277297\n",
      "Epoch:1, avg loss for epoch:0.610656804160068, accuracy: 66.48125257519571\n",
      "Epoch:2, avg loss for epoch:0.5945232720751511, accuracy: 67.6555418211784\n",
      "Epoch:3, avg loss for epoch:0.5909136081996716, accuracy: 67.96456530696332\n",
      "Epoch:4, avg loss for epoch:0.5775118769783723, accuracy: 69.2047795632468\n",
      "Epoch:5, avg loss for epoch:0.5682332106326756, accuracy: 69.93819530284301\n",
      "Epoch:6, avg loss for epoch:0.5578787320538571, accuracy: 71.04655953852493\n",
      "Epoch:7, avg loss for epoch:0.5517065725828472, accuracy: 71.63164400494438\n",
      "Epoch:8, avg loss for epoch:0.5383049977453132, accuracy: 72.78533168520808\n",
      "Epoch:9, avg loss for epoch:0.5277802641454495, accuracy: 73.51050679851669\n",
      "new record making model!\n",
      "Validation loss for epoch 10: 0.596899539232254, accuracy: 68.9161554192229\n",
      "Epoch:10, avg loss for epoch:0.5164747147183669, accuracy: 74.38813349814586\n",
      "Epoch:11, avg loss for epoch:0.5134374403639843, accuracy: 74.56942727647301\n",
      "Epoch:12, avg loss for epoch:0.5065818170183584, accuracy: 74.87021013597034\n",
      "Epoch:13, avg loss for epoch:0.49703629816833295, accuracy: 75.48413679439638\n",
      "Epoch:14, avg loss for epoch:0.48786734279833344, accuracy: 76.1516275236918\n",
      "Epoch:15, avg loss for epoch:0.4835953221509331, accuracy: 76.36176349402555\n",
      "Epoch:16, avg loss for epoch:0.4744857080672917, accuracy: 77.04985578903997\n",
      "Epoch:17, avg loss for epoch:0.4645181817443747, accuracy: 77.50721054800165\n",
      "Epoch:18, avg loss for epoch:0.4608125123538469, accuracy: 77.55665430572724\n",
      "Epoch:19, avg loss for epoch:0.4497635731571599, accuracy: 78.4548825710754\n",
      "new record making model!\n",
      "Validation loss for epoch 20: 0.49707940593361855, accuracy: 74.43762781186093\n",
      "Epoch:20, avg loss for epoch:0.44042489199261914, accuracy: 79.18829831067161\n",
      "Epoch:21, avg loss for epoch:0.4413706344993491, accuracy: 78.93283889575608\n",
      "Epoch:22, avg loss for epoch:0.4326797072824679, accuracy: 79.6291718170581\n",
      "Epoch:23, avg loss for epoch:0.4275374531745911, accuracy: 79.87227029254224\n",
      "Epoch:24, avg loss for epoch:0.42623272098993, accuracy: 80.11536876802637\n",
      "Epoch:25, avg loss for epoch:0.4139601629031332, accuracy: 80.92707045735476\n",
      "Epoch:26, avg loss for epoch:0.41262497149015726, accuracy: 80.70045323444582\n",
      "Epoch:27, avg loss for epoch:0.4038315219314475, accuracy: 81.28965801400906\n",
      "Epoch:28, avg loss for epoch:0.39468913862579746, accuracy: 81.62752369180058\n",
      "Epoch:29, avg loss for epoch:0.39845160230209953, accuracy: 81.49979398434282\n",
      "Validation loss for epoch 30: 0.5127034895122051, accuracy: 74.43762781186093\n",
      "Epoch:30, avg loss for epoch:0.39396668782359673, accuracy: 81.74289245982695\n",
      "Epoch:31, avg loss for epoch:0.38468517159160814, accuracy: 82.55047383601153\n",
      "Epoch:32, avg loss for epoch:0.38131644396405473, accuracy: 82.65348166460652\n",
      "Epoch:33, avg loss for epoch:0.37423563740755383, accuracy: 83.16028018129377\n",
      "Epoch:34, avg loss for epoch:0.37355126111130965, accuracy: 83.11495673671199\n",
      "Epoch:35, avg loss for epoch:0.37252195477485656, accuracy: 83.073753605274\n",
      "Epoch:36, avg loss for epoch:0.3665713756492263, accuracy: 83.34157395962093\n",
      "Epoch:37, avg loss for epoch:0.3596489186349668, accuracy: 83.71652245570664\n",
      "Epoch:38, avg loss for epoch:0.35843639860027715, accuracy: 83.77008652657602\n",
      "Epoch:39, avg loss for epoch:0.35848694537815295, accuracy: 83.92665842604038\n",
      "Validation loss for epoch 40: 0.553461330011487, accuracy: 73.8241308793456\n",
      "Epoch:40, avg loss for epoch:0.3533298075983399, accuracy: 83.852492789452\n",
      "Epoch:41, avg loss for epoch:0.35454484922321217, accuracy: 83.89781623403378\n",
      "Epoch:42, avg loss for epoch:0.3506669524468874, accuracy: 84.36753193242687\n",
      "Epoch:43, avg loss for epoch:0.34511013329029083, accuracy: 84.57766790276061\n",
      "Epoch:44, avg loss for epoch:0.3478136135559333, accuracy: 84.2233209723939\n",
      "Epoch:45, avg loss for epoch:0.3393570230195397, accuracy: 85.0103007828595\n",
      "Epoch:46, avg loss for epoch:0.33837647218453254, accuracy: 84.95261639884632\n",
      "Epoch:47, avg loss for epoch:0.34200085660344676, accuracy: 84.75896168108777\n",
      "Epoch:48, avg loss for epoch:0.340266473748182, accuracy: 84.78368355995056\n",
      "Epoch:49, avg loss for epoch:0.3346555454166312, accuracy: 85.31108364235682\n",
      "Validation loss for epoch 50: 0.5239492366090417, accuracy: 74.02862985685071\n",
      "Epoch:50, avg loss for epoch:0.3349538378025356, accuracy: 85.05974454058509\n",
      "Epoch:51, avg loss for epoch:0.32798645480682975, accuracy: 85.3646477132262\n",
      "Epoch:52, avg loss for epoch:0.3302420774572774, accuracy: 85.49237742068397\n",
      "Epoch:53, avg loss for epoch:0.32492602577334956, accuracy: 85.58714462299135\n",
      "Epoch:54, avg loss for epoch:0.32655948259328543, accuracy: 85.58302430984754\n",
      "Epoch:55, avg loss for epoch:0.3220616902959974, accuracy: 85.91264936135147\n",
      "Epoch:56, avg loss for epoch:0.31619398750756916, accuracy: 86.25875566543057\n",
      "Epoch:57, avg loss for epoch:0.32176583589691865, accuracy: 85.99093531108365\n",
      "Epoch:58, avg loss for epoch:0.316051249127639, accuracy: 86.06098063452822\n",
      "Epoch:59, avg loss for epoch:0.31462922182522324, accuracy: 86.08982282653481\n",
      "Validation loss for epoch 60: 0.5494571048766375, accuracy: 73.61963190184049\n",
      "Epoch:60, avg loss for epoch:0.31730333770576274, accuracy: 86.1186650185414\n",
      "Epoch:61, avg loss for epoch:0.31285317273516405, accuracy: 86.1598681499794\n",
      "Epoch:62, avg loss for epoch:0.3109065527978696, accuracy: 86.44416975690153\n",
      "Epoch:63, avg loss for epoch:0.30544338900791973, accuracy: 86.66254635352287\n",
      "Epoch:64, avg loss for epoch:0.3078082994410866, accuracy: 86.72847136382364\n",
      "Epoch:65, avg loss for epoch:0.3087518841812485, accuracy: 86.61310259579729\n",
      "Epoch:66, avg loss for epoch:0.30233629596860784, accuracy: 87.04985578903997\n",
      "Epoch:67, avg loss for epoch:0.3031630523110691, accuracy: 86.64606510094767\n",
      "Epoch:68, avg loss for epoch:0.30243107127515895, accuracy: 86.72435105067986\n",
      "Epoch:69, avg loss for epoch:0.30234033779094094, accuracy: 86.83559950556243\n",
      "new record making model!\n",
      "Validation loss for epoch 70: 0.49683802388608456, accuracy: 76.89161554192229\n",
      "Epoch:70, avg loss for epoch:0.29893338719480916, accuracy: 86.95508858673259\n",
      "Epoch:71, avg loss for epoch:0.2937558972521832, accuracy: 87.41244334569427\n",
      "Epoch:72, avg loss for epoch:0.2965578534101185, accuracy: 87.36711990111249\n",
      "Epoch:73, avg loss for epoch:0.29989357143640516, accuracy: 86.98805109188298\n",
      "Epoch:74, avg loss for epoch:0.2949032528620017, accuracy: 87.14050267820355\n",
      "Epoch:75, avg loss for epoch:0.2925906973449807, accuracy: 87.64318088174701\n",
      "Epoch:76, avg loss for epoch:0.29072919778133693, accuracy: 87.7379480840544\n",
      "Epoch:77, avg loss for epoch:0.2849890714413241, accuracy: 87.7008652657602\n",
      "Epoch:78, avg loss for epoch:0.292864495829532, accuracy: 87.39596209311908\n",
      "Epoch:79, avg loss for epoch:0.28954565344672456, accuracy: 87.51545117428924\n",
      "Validation loss for epoch 80: 0.5802321303635836, accuracy: 72.59713701431492\n",
      "Epoch:80, avg loss for epoch:0.28293601760738774, accuracy: 87.62669962917181\n",
      "Epoch:81, avg loss for epoch:0.28360258505532615, accuracy: 87.93572311495673\n",
      "Epoch:82, avg loss for epoch:0.2832940092996547, accuracy: 87.59785743716523\n",
      "Epoch:83, avg loss for epoch:0.28644702701192154, accuracy: 87.51133086114545\n",
      "Epoch:84, avg loss for epoch:0.285515295988635, accuracy: 87.97280593325092\n",
      "Epoch:85, avg loss for epoch:0.28443036965633695, accuracy: 87.84507622579316\n",
      "Epoch:86, avg loss for epoch:0.28278357402274484, accuracy: 88.1005356407087\n",
      "Epoch:87, avg loss for epoch:0.28096423658885455, accuracy: 87.79975278121137\n",
      "Epoch:88, avg loss for epoch:0.2810477456764171, accuracy: 87.86567779151216\n",
      "Epoch:89, avg loss for epoch:0.2775360985021842, accuracy: 88.0593325092707\n",
      "Validation loss for epoch 90: 0.5713402926921844, accuracy: 74.43762781186093\n",
      "Epoch:90, avg loss for epoch:0.28129948118799614, accuracy: 87.62669962917181\n",
      "Epoch:91, avg loss for epoch:0.2789206899310413, accuracy: 87.83683559950556\n",
      "Epoch:92, avg loss for epoch:0.27824395275429675, accuracy: 88.01812937783272\n",
      "Epoch:93, avg loss for epoch:0.27473409105288354, accuracy: 88.18294190358468\n",
      "Epoch:94, avg loss for epoch:0.2719113592254488, accuracy: 88.66089822826535\n"
     ]
    },
    {
     "name": "stdout",
     "output_type": "stream",
     "text": [
      "Epoch:95, avg loss for epoch:0.27842037340528086, accuracy: 88.0840543881335\n",
      "Epoch:96, avg loss for epoch:0.27656831678591276, accuracy: 88.4136794396374\n",
      "Epoch:97, avg loss for epoch:0.27305297137875306, accuracy: 88.4136794396374\n",
      "Epoch:98, avg loss for epoch:0.2681191227153728, accuracy: 88.53316852080758\n",
      "Epoch:99, avg loss for epoch:0.28134913044540505, accuracy: 87.72558714462299\n"
     ]
    }
   ],
   "source": [
    "train_loader = DataLoader(train_data,batch_size=128,shuffle=True)\n",
    "val_loader = DataLoader(val_data,batch_size=32,shuffle=True)\n",
    "optimizer = optim.Adam(model.parameters(), lr=0.001, weight_decay=1e-4)\n",
    "epochs = 100\n",
    "max_val_acc = 0\n",
    "\n",
    "for epoch in range(epochs):\n",
    "\n",
    "    running_loss = 0\n",
    "    correct = 0\n",
    "    for i, (inputs, labels) in enumerate(train_loader):\n",
    "        model.train()\n",
    "        optimizer.zero_grad()\n",
    "        outputs = model(inputs.to(device))\n",
    "        loss = nn.BCELoss()(outputs,labels.to(device).reshape(-1,1))\n",
    "        running_loss += loss.item()\n",
    "        loss.backward()\n",
    "        optimizer.step()\n",
    "        outputs = outputs.reshape(1, -1)\n",
    "        outputs = outputs.squeeze()\n",
    "        for i in range(outputs.size()[0]):\n",
    "            if (labels[i] == 0 and outputs[i] < 0.5) or (labels[i] == 1 and outputs[i] >= 0.5):\n",
    "                correct += 1\n",
    "\n",
    "    if epoch % 10 == 0:\n",
    "        with torch.no_grad():\n",
    "            model.eval()\n",
    "            val_loss = 0\n",
    "            val_correct = 0\n",
    "            for j, (d,l) in enumerate(val_loader):\n",
    "                o = model(d.to(device))\n",
    "                loss = nn.BCELoss()(o,l.to(device).reshape(-1,1))\n",
    "                val_loss += loss.item()\n",
    "                o = o.reshape(1,-1)\n",
    "                o = o.squeeze()\n",
    "                for i in range(o.size()[0]):\n",
    "                    if (l[i] == 0 and o[i] < 0.5) or (l[i] == 1 and o[i] >= 0.5):\n",
    "                        val_correct += 1\n",
    "\n",
    "            accuracy = 100 * val_correct / len(val_data)\n",
    "            if accuracy > max_val_acc:\n",
    "                print('new record making model!')\n",
    "                max_val_acc = accuracy\n",
    "                #torch.save(model.state_dict(), args.model_path+'/model.pt')\n",
    "            print(f\"Validation loss for epoch {epoch}: {val_loss / len(val_loader)}, accuracy: {accuracy}\")\n",
    "\n",
    "    accuracy = 100 * correct / len(train_data)\n",
    "    print(f\"Epoch:{epoch}, avg loss for epoch:{running_loss / len(train_loader)}, accuracy: {accuracy}\")"
   ]
  },
  {
   "cell_type": "code",
   "execution_count": 174,
   "metadata": {},
   "outputs": [
    {
     "name": "stdout",
     "output_type": "stream",
     "text": [
      "67.85009861932939\n"
     ]
    }
   ],
   "source": [
    "test_loader = DataLoader(test_data,batch_size=32,shuffle=True)\n",
    "with torch.no_grad():\n",
    "    model.eval()\n",
    "    test_loss = 0\n",
    "    test_correct = 0\n",
    "    for j, (d,l) in enumerate(test_loader):\n",
    "        o = model(d.to(device))\n",
    "        loss = nn.BCELoss()(o,l.to(device).reshape(-1,1))\n",
    "        val_loss += loss.item()\n",
    "        o = o.reshape(1,-1)\n",
    "        o = o.squeeze()\n",
    "        for i in range(o.size()[0]):\n",
    "            if (l[i] == 0 and o[i] < 0.5) or (l[i] == 1 and o[i] >= 0.5):\n",
    "                test_correct += 1\n",
    "\n",
    "    accuracy = 100 * test_correct / len(test_data)\n",
    "            \n",
    "print(accuracy)"
   ]
  },
  {
   "cell_type": "code",
   "execution_count": 41,
   "metadata": {},
   "outputs": [],
   "source": [
    "#Classifying specific set of audio samples\n",
    "def predict(test_dir):\n",
    "    \n",
    "    predictions = dict()\n",
    "    for f in os.listdir(test_dir):\n",
    "        audio_chunks = segment_and_standardize_audio(test_dir / f, 1000)\n",
    "        num_english_pred = 0\n",
    "        for seg in audio_chunks:\n",
    "\n",
    "            samples = seg.get_array_of_samples()\n",
    "            arr = np.array(samples).astype(np.float32)/32768 # 16 bit \n",
    "            arr = librosa.core.resample(arr, seg.frame_rate, 22050, res_type='kaiser_best') \n",
    "\n",
    "            mfcc = librosa.feature.mfcc(y=arr, sr=22050)\n",
    "            data = generate_mfcc_data(mfcc)\n",
    "            pred = model(torch.from_numpy(data).unsqueeze(0).float().to(device)).item()\n",
    "            if pred > 0.5:\n",
    "                num_english_pred += 1\n",
    "        \n",
    "        frac_english_preds = num_english_pred / len(audio_chunks)\n",
    "        \n",
    "        if frac_english_preds >= 0.5:\n",
    "            predictions[f] = 1\n",
    "        else:\n",
    "            predictions[f] = 0\n",
    "            \n",
    "    return predictions"
   ]
  },
  {
   "cell_type": "code",
   "execution_count": 7,
   "metadata": {
    "scrolled": true
   },
   "outputs": [
    {
     "name": "stdout",
     "output_type": "stream",
     "text": [
      "195776\n",
      "30997\n",
      "1556\n"
     ]
    }
   ],
   "source": [
    "import pandas as pd\n",
    "speaker_csv = Path('C:/Users/omar_/Documents/kaggle_voice/archive (1)/cv-valid-train.csv')\n",
    "df = pd.read_csv(speaker_csv)\n",
    "print(len(df))\n",
    "count = 0\n",
    "#print(df.loc[0])\n",
    "count1 = 0\n",
    "count2 = 0\n",
    "d = dict()\n",
    "count = 0\n",
    "for i in range(len(df)):\n",
    "    if df.loc[i]['accent'] == \"us\":\n",
    "        count1 += 1\n",
    "    elif df.loc[i]['accent'] == \"scotland\":\n",
    "        count2 += 1\n",
    "    \n",
    "\n",
    "        \n",
    "    \n",
    "#     if df.loc[i]['accent'] == 'us':\n",
    "#         count1 += 1\n",
    "#     elif df.loc[i]['accent'] == 'indian':\n",
    "#         count2 += 1\n",
    "        \n",
    "print(count1)\n",
    "print(count2)"
   ]
  },
  {
   "cell_type": "code",
   "execution_count": 177,
   "metadata": {},
   "outputs": [],
   "source": [
    "# Input to the model\n",
    "batch_size = 1\n",
    "x = torch.randn(batch_size, 3, 50, 44, requires_grad=True).to(device)\n",
    "torch_out = model(x)\n",
    "\n",
    "# Export the model\n",
    "torch.onnx.export(model,                     # model being run\n",
    "                  x,                         # model input (or a tuple for multiple inputs)\n",
    "                  \"binary_accent_classifier.onnx\",   # where to save the model (can be a file or file-like object)\n",
    "                  export_params=True,        # store the trained parameter weights inside the model file\n",
    "                  opset_version=10,          # the ONNX version to export the model to\n",
    "                  do_constant_folding=True,  # whether to execute constant folding for optimization\n",
    "                  input_names = ['input'],   # the model's input names\n",
    "                  output_names = ['output'], # the model's output names\n",
    "                  dynamic_axes={'input' : {0 : 'batch_size'},    # variable lenght axes\n",
    "                                'output' : {0 : 'batch_size'}})"
   ]
  }
 ],
 "metadata": {
  "kernelspec": {
   "display_name": "test",
   "language": "python",
   "name": "test"
  },
  "language_info": {
   "codemirror_mode": {
    "name": "ipython",
    "version": 3
   },
   "file_extension": ".py",
   "mimetype": "text/x-python",
   "name": "python",
   "nbconvert_exporter": "python",
   "pygments_lexer": "ipython3",
   "version": "3.9.2"
  }
 },
 "nbformat": 4,
 "nbformat_minor": 4
}
