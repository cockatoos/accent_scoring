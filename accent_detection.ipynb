{
 "cells": [
  {
   "cell_type": "markdown",
   "metadata": {},
   "source": [
    "# Accent detection using MFCC\n",
    "\n",
    "Current approach is to formulate the accent detection problem as a classification problem using the MFCCs of audio files.\n",
    "\n",
    "pydub is the python audio processing library used in this work with librosa being used for the MFCC calculations.\n",
    "\n",
    "Data pre processing + model architecture adapted from work in this paper: http://cs229.stanford.edu/proj2017/final-reports/5244230.pdf"
   ]
  },
  {
   "cell_type": "code",
   "execution_count": 1,
   "metadata": {},
   "outputs": [],
   "source": [
    "import os\n",
    "import matplotlib.pyplot as plt\n",
    "import numpy as np\n",
    "import librosa\n",
    "from scipy.io import wavfile as wav\n",
    "from pydub import AudioSegment\n",
    "from pydub.silence import split_on_silence\n",
    "from pathlib import Path"
   ]
  },
  {
   "cell_type": "code",
   "execution_count": 2,
   "metadata": {},
   "outputs": [],
   "source": [
    "recordings_dir = Path('C:/Users/omar_/Documents/cockatoos/data/accent_samples/recordings/recordings')\n",
    "recordings_dir_wav = Path('C:/Users/omar_/Documents/cockatoos/data/accent_samples/recordings/recordings_wav')\n",
    "recordings_dir_chunk = Path('C:/Users/omar_/Documents/cockatoos/data/accent_samples/recordings/recordings_chunk')\n",
    "recordings_dir_slice =  Path('C:/Users/omar_/Documents/cockatoos/data/accent_samples/recordings/recordings_slice')\n",
    "recordings_dir_standardized = Path('C:/Users/omar_/Documents/cockatoos/data/accent_samples/recordings/recordings_standardized')"
   ]
  },
  {
   "cell_type": "code",
   "execution_count": 3,
   "metadata": {},
   "outputs": [
    {
     "name": "stdout",
     "output_type": "stream",
     "text": [
      "C:\\Users\\omar_\\Documents\\cockatoos\\data\\accent_samples\\recordings\\afrikaans1.mp3\n"
     ]
    }
   ],
   "source": [
    "test = recordings_dir.parent / \"afrikaans1.mp3\"\n",
    "print(test)"
   ]
  },
  {
   "cell_type": "code",
   "execution_count": 4,
   "metadata": {},
   "outputs": [
    {
     "name": "stdout",
     "output_type": "stream",
     "text": [
      "C:\\Users\\omar_\\Documents\\cockatoos\\data\\accent_samples\\recordings\\recordings\n",
      "C:\\Users\\omar_\\Documents\\cockatoos\\data\\accent_samples\\recordings\\recordings_wav\n"
     ]
    }
   ],
   "source": [
    "print(recordings_dir)\n",
    "print(recordings_dir_wav)"
   ]
  },
  {
   "cell_type": "code",
   "execution_count": 88,
   "metadata": {},
   "outputs": [
    {
     "name": "stdout",
     "output_type": "stream",
     "text": [
      "0\n",
      "100\n",
      "200\n",
      "300\n",
      "400\n",
      "500\n",
      "600\n",
      "700\n",
      "800\n",
      "900\n",
      "1000\n",
      "1100\n",
      "1200\n",
      "1300\n",
      "1400\n",
      "1500\n",
      "1600\n",
      "1700\n",
      "1800\n",
      "1900\n",
      "2000\n",
      "2100\n"
     ]
    }
   ],
   "source": [
    "#Convert data to wav format if needed\n",
    "\n",
    "for i, filename in enumerate(os.listdir(recordings_dir)):\n",
    "    \n",
    "    if i % 100 == 0:\n",
    "        print(i)\n",
    "    \n",
    "    src = recordings_dir / filename\n",
    "    dst = recordings_dir_wav / (filename[:-3] +'wav')\n",
    "    sound = AudioSegment.from_mp3(src)\n",
    "    sound.export(dst, format=\"wav\")\n"
   ]
  },
  {
   "cell_type": "code",
   "execution_count": 4,
   "metadata": {},
   "outputs": [
    {
     "data": {
      "image/png": "[encoded data removed]",
      "text/plain": [
       "<Figure size 432x288 with 1 Axes>"
      ]
     },
     "metadata": {
      "needs_background": "light"
     },
     "output_type": "display_data"
    }
   ],
   "source": [
    "test_f = recordings_dir_wav / \"english1.wav\"\n",
    "rate, data = wav.read(test_f)\n",
    "plt.plot(data)\n",
    "plt.show()"
   ]
  },
  {
   "cell_type": "code",
   "execution_count": 5,
   "metadata": {},
   "outputs": [
    {
     "name": "stdout",
     "output_type": "stream",
     "text": [
      "48\n"
     ]
    }
   ],
   "source": [
    "#Attempt to generate word segments from continuous piece of audio by thresholding on silence\n",
    "\n",
    "sound_file = AudioSegment.from_wav(test_f)\n",
    "audio_chunks = split_on_silence(sound_file, \n",
    "    # must be silent for at least half a second\n",
    "    min_silence_len = 80,\n",
    "\n",
    "    # consider it silent if quieter than -16 dBFS\n",
    "    silence_thresh=-30\n",
    ")\n",
    "\n",
    "#Save each segment of audio as a separate file\n",
    "\n",
    "print(len(audio_chunks))\n",
    "\n",
    "# for i, chunk in enumerate(audio_chunks):\n",
    "#     out_file = recordings_dir_chunk / f\"chunk{i}.wav\"\n",
    "#     chunk.export(out_file, format=\"wav\")"
   ]
  },
  {
   "cell_type": "code",
   "execution_count": 8,
   "metadata": {},
   "outputs": [
    {
     "name": "stdout",
     "output_type": "stream",
     "text": [
      "1519\n"
     ]
    }
   ],
   "source": [
    "a = audio_chunks[0]\n",
    "b = a + AudioSegment.silent(duration=1000)\n",
    "print(len(b))\n",
    "# np_chunk = np.frombuffer(a.get_array_of_samples(), dtype=np.float16)\n",
    "# m = librosa.feature.mfcc(y=np_chunk, sr=22050)"
   ]
  },
  {
   "cell_type": "code",
   "execution_count": 7,
   "metadata": {},
   "outputs": [],
   "source": [
    "#Length of audio segment before calculating MFCC will need to be standardized either by trimming or adding silence\n",
    "#Easisest way to do this is based on AudioSegments (array in milliseconds)\n",
    "#Trimming is self explanatory and padding can be done by adding a silence segment\n",
    "\n",
    "test_f = recordings_dir_wav / \"english1.wav\"\n",
    "audio_seg = AudioSegment.from_wav(test_f)\n",
    "\n",
    "#Trim segment to include only the first one second\n",
    "\n",
    "audio_seg_1sec = audio_seg[0:1000]\n",
    "\n",
    "#Pad segment by an extra second\n",
    "\n",
    "audio_seg_extra = audio_seg + AudioSegment.silent(duration=1000)"
   ]
  },
  {
   "cell_type": "code",
   "execution_count": 6,
   "metadata": {},
   "outputs": [],
   "source": [
    "# Make all audio segments the same length (In this case 0.5 seconds)\n",
    "\n",
    "for i, filename in enumerate(os.listdir(recordings_dir_chunk)):\n",
    "    src = recordings_dir_chunk / filename\n",
    "    seg = AudioSegment.from_wav(src)\n",
    "    seg_len = len(seg)\n",
    "    \n",
    "    if seg_len >= 500:\n",
    "        seg_standardized = seg[0:500]\n",
    "    else:\n",
    "        seg_standardized = seg + AudioSegment.silent(duration=(500 - seg_len))\n",
    "        \n",
    "    seg_standardized.export(recordings_dir_standardized / f\"{filename[:-4]}.wav\",format=\"wav\")"
   ]
  },
  {
   "cell_type": "code",
   "execution_count": 7,
   "metadata": {},
   "outputs": [
    {
     "name": "stdout",
     "output_type": "stream",
     "text": [
      "Chunk 0 length 500\n",
      "Chunk 1 length 500\n",
      "Chunk 2 length 500\n",
      "Chunk 3 length 500\n",
      "Chunk 4 length 500\n",
      "Chunk 5 length 500\n",
      "Chunk 6 length 500\n",
      "Chunk 7 length 500\n",
      "Chunk 8 length 500\n",
      "Chunk 9 length 500\n",
      "Chunk 10 length 500\n",
      "Chunk 11 length 500\n",
      "Chunk 12 length 500\n",
      "Chunk 13 length 500\n",
      "Chunk 14 length 500\n",
      "Chunk 15 length 500\n",
      "Chunk 16 length 500\n",
      "Chunk 17 length 500\n",
      "Chunk 18 length 500\n",
      "Chunk 19 length 500\n",
      "Chunk 20 length 500\n",
      "Chunk 21 length 500\n",
      "Chunk 22 length 500\n",
      "Chunk 23 length 500\n",
      "Chunk 24 length 500\n",
      "Chunk 25 length 500\n",
      "Chunk 26 length 500\n",
      "Chunk 27 length 500\n",
      "Chunk 28 length 500\n",
      "Chunk 29 length 500\n",
      "Chunk 30 length 500\n",
      "Chunk 31 length 500\n",
      "Chunk 32 length 500\n",
      "Chunk 33 length 500\n",
      "Chunk 34 length 500\n",
      "Chunk 35 length 500\n",
      "Chunk 36 length 500\n",
      "Chunk 37 length 500\n",
      "Chunk 38 length 500\n",
      "Chunk 39 length 500\n",
      "Chunk 40 length 500\n",
      "Chunk 41 length 500\n",
      "Chunk 42 length 500\n",
      "Chunk 43 length 500\n",
      "Chunk 44 length 500\n",
      "Chunk 45 length 500\n",
      "Chunk 46 length 500\n",
      "Chunk 47 length 500\n"
     ]
    }
   ],
   "source": [
    "for i, filename in enumerate(os.listdir(recordings_dir_standardized)):\n",
    "    src = recordings_dir_standardized/ filename\n",
    "    seg = AudioSegment.from_wav(src)\n",
    "    seg_len = len(seg)\n",
    "    print(f\"Chunk {i} length {seg_len}\")"
   ]
  },
  {
   "cell_type": "code",
   "execution_count": 39,
   "metadata": {},
   "outputs": [
    {
     "name": "stdout",
     "output_type": "stream",
     "text": [
      "(20, 23)\n"
     ]
    }
   ],
   "source": [
    "for i, filename in enumerate(os.listdir(recordings_dir_standardized)):\n",
    "    \n",
    "    src = recordings_dir_chunk / filename\n",
    "    y, sr = librosa.load(src)\n",
    "    m = librosa.feature.mfcc(y=y, sr=sr)\n",
    "    print(m.shape)\n",
    "    break\n",
    "    "
   ]
  },
  {
   "cell_type": "code",
   "execution_count": 7,
   "metadata": {},
   "outputs": [],
   "source": [
    "test_c = recordings_dir_chunk / \"chunk5.wav\"\n",
    "y, sr = librosa.load(test_c)\n",
    "m = librosa.feature.mfcc(y=y, sr=sr)"
   ]
  },
  {
   "cell_type": "code",
   "execution_count": 28,
   "metadata": {},
   "outputs": [
    {
     "name": "stdout",
     "output_type": "stream",
     "text": [
      "22050\n"
     ]
    }
   ],
   "source": [
    "print(sr)"
   ]
  },
  {
   "cell_type": "code",
   "execution_count": 16,
   "metadata": {},
   "outputs": [
    {
     "name": "stdout",
     "output_type": "stream",
     "text": [
      "(11819,)\n",
      "22050\n",
      "(20, 24)\n"
     ]
    }
   ],
   "source": [
    "print(y.shape)\n",
    "print(sr)\n",
    "print(m.shape)"
   ]
  },
  {
   "cell_type": "code",
   "execution_count": 19,
   "metadata": {},
   "outputs": [
    {
     "name": "stdout",
     "output_type": "stream",
     "text": [
      "[-3.2125232e+02  9.0521378e+01  2.7228752e+01  4.3222569e+01\n",
      "  2.3360477e+01  2.6514725e+01  1.6163609e+01  1.5952240e+01\n",
      " -1.5531508e+01 -8.4569864e+00 -6.0969663e+00  6.3410044e-02\n",
      " -1.1836134e+01 -1.8409029e+00 -1.2836340e+01  6.2185168e+00\n",
      " -2.6788561e+00  8.2192945e-01 -2.2138951e+00  8.0116100e+00]\n",
      "(20, 24)\n"
     ]
    }
   ],
   "source": [
    "print(m[:,0])\n",
    "mfcc_delta = librosa.feature.delta(m, order=1)\n",
    "print(mfcc_delta.shape)"
   ]
  },
  {
   "cell_type": "code",
   "execution_count": 13,
   "metadata": {},
   "outputs": [
    {
     "data": {
      "text/plain": [
       "<_io.BufferedRandom name='C:\\\\Users\\\\omar_\\\\Documents\\\\cockatoos\\\\data\\\\accent_samples\\\\recordings\\\\recordings_slice\\\\test1.wav'>"
      ]
     },
     "execution_count": 13,
     "metadata": {},
     "output_type": "execute_result"
    }
   ],
   "source": [
    "test_slice = recordings_dir_wav / \"english1.wav\"\n",
    "s = AudioSegment.from_wav(test_slice)[0:5000]\n",
    "s.export(recordings_dir_slice / \"test1.wav\",format=\"wav\")"
   ]
  }
 ],
 "metadata": {
  "kernelspec": {
   "display_name": "Python 3",
   "language": "python",
   "name": "python3"
  },
  "language_info": {
   "codemirror_mode": {
    "name": "ipython",
    "version": 3
   },
   "file_extension": ".py",
   "mimetype": "text/x-python",
   "name": "python",
   "nbconvert_exporter": "python",
   "pygments_lexer": "ipython3",
   "version": "3.7.6"
  }
 },
 "nbformat": 4,
 "nbformat_minor": 4
}
