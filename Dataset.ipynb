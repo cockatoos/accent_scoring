{
 "cells": [
  {
   "cell_type": "code",
   "execution_count": 17,
   "metadata": {},
   "outputs": [],
   "source": [
    "import pandas as pd       \n",
    "import os \n",
    "import math \n",
    "import numpy as np\n",
    "import matplotlib.pyplot as plt\n",
    "import librosa\n",
    "from pydub import AudioSegment\n",
    "from pydub.silence import split_on_silence\n",
    "import torch\n",
    "from torch.utils.data import Dataset, DataLoader\n",
    "from pathlib import Path"
   ]
  },
  {
   "cell_type": "code",
   "execution_count": 67,
   "metadata": {},
   "outputs": [],
   "source": [
    "class MFCCDataset(Dataset):\n",
    "    def __init__(self, root_dir, train):\n",
    "        self.root_dir = root_dir\n",
    "        self.train = train\n",
    "\n",
    "    def __len__(self):\n",
    "        \n",
    "        if train:\n",
    "            return len(os.listdir(root_dir)) * 2\n",
    "        \n",
    "        return len(os.listdir(root_dir))\n",
    "\n",
    "    def __getitem__(self, idx):\n",
    "        \n",
    "        noise = False\n",
    "        num_files = len(os.listdir(self.root_dir))\n",
    "        \n",
    "        data_id = idx\n",
    "        \n",
    "        if idx >= num_files:\n",
    "            data_id = idx - num_files\n",
    "            noise = True\n",
    "            \n",
    "    \n",
    "        f = os.listdir(self.root_dir)[data_id]\n",
    "        label = torch.tensor(0)\n",
    "        y, sr = librosa.load(self.root_dir / f)\n",
    "        m = librosa.feature.mfcc(y=y, sr=sr)\n",
    "        \n",
    "        \n",
    "        if noise:\n",
    "            n = np.random.normal(0,1, m.shape)\n",
    "            m += n\n",
    "        \n",
    "        m_standardized = np.zeros(m.shape)\n",
    "        for b in range(m.shape[0]):\n",
    "            m_slice = m[b,:]\n",
    "            centered = m_slice - np.mean(m_slice)\n",
    "            if np.std(centered) != 0:\n",
    "                centered_scaled = centered / np.std(centered)\n",
    "                \n",
    "            m_standardized[b,:] = centered_scaled\n",
    "            \n",
    "        delta1 = librosa.feature.delta(m_standardized, order=1)\n",
    "        delta2 = librosa.feature.delta(m_standardized, order=2)\n",
    "        mfcc_data = np.stack((m_standardized,delta1,delta2))\n",
    "        \n",
    "        return torch.tensor(mfcc_data), label"
   ]
  },
  {
   "cell_type": "code",
   "execution_count": null,
   "metadata": {},
   "outputs": [],
   "source": [
    "for i in range(96):\n",
    "    print(f\"{i} {train_data[i][0].shape}\")"
   ]
  },
  {
   "cell_type": "code",
   "execution_count": 23,
   "metadata": {},
   "outputs": [
    {
     "name": "stdout",
     "output_type": "stream",
     "text": [
      "Number of english accent files: 579\n",
      "Number of other accent files: 198\n",
      "Number of training files: 300\n",
      "Number of validaiton files: 46\n",
      "Number of test files: 50\n"
     ]
    }
   ],
   "source": [
    "original_dir = Path('C:/Users/omar_/Documents/cockatoos/data/accent_samples/recordings/recordings')\n",
    "train_dir =  Path('C:/Users/omar_/Documents/cockatoos/data/train')\n",
    "val_dir =  Path('C:/Users/omar_/Documents/cockatoos/data/val')\n",
    "test_dir =  Path('C:/Users/omar_/Documents/cockatoos/data/test')\n",
    "\n",
    "\n",
    "files = os.listdir(original_dir)\n",
    "\n",
    "\n",
    "other_accent_types = [\"mandarin\", \"japanese\", \"korean\", \"taiwanese\", \"cantonese\", \"thai\", \"indonesian\"]\n",
    "\n",
    "english_accent_files = []\n",
    "other_accent_files = []\n",
    "\n",
    "num_train_files = 150\n",
    "num_val_files = 23\n",
    "num_test_files = 25\n",
    "\n",
    "end_idx_train = num_train_files\n",
    "end_idx_val = end_idx_train + num_val_files\n",
    "end_idx_test = end_idx_val + num_test_files\n",
    "\n",
    "for f in files:\n",
    "    if \"english\" in f:\n",
    "        english_accent_files.append(f)\n",
    "    \n",
    "    if any(t in f for t in other_accent_types):\n",
    "        other_accent_files.append(f)\n",
    "        \n",
    "print(f\"Number of english accent files: {len(english_accent_files)}\")\n",
    "print(f\"Number of other accent files: {len(other_accent_files)}\")\n",
    "\n",
    "train_files = english_accent_files[0:end_idx_train] + other_accent_files[0:end_idx_train]\n",
    "val_files   = english_accent_files[end_idx_train:end_idx_val] + other_accent_files[end_idx_train:end_idx_val]\n",
    "test_files  = english_accent_files[end_idx_val:end_idx_test] + other_accent_files[end_idx_val:end_idx_test]\n",
    "\n",
    "print(f\"Number of training files: {len(train_files)}\")\n",
    "print(f\"Number of validaiton files: {len(val_files)}\")\n",
    "print(f\"Number of test files: {len(test_files)}\")"
   ]
  },
  {
   "cell_type": "code",
   "execution_count": 27,
   "metadata": {},
   "outputs": [],
   "source": [
    "def generate_model_data(path, files):\n",
    "    \n",
    "    counter = 0\n",
    "    seg_thresh = 500\n",
    "    \n",
    "    for f in files:\n",
    "        if \"english\" in f:\n",
    "            label = 1\n",
    "        else:\n",
    "            label = 0\n",
    "            \n",
    "        sound_file = AudioSegment.from_mp3(original_dir / f)\n",
    "        audio_chunks = split_on_silence(sound_file, \n",
    "            # must be silent for at least half a second\n",
    "            min_silence_len = 80,\n",
    "\n",
    "            # consider it silent if quieter than -16 dBFS\n",
    "            silence_thresh=-30\n",
    "        )\n",
    "\n",
    "        \n",
    "        for seg in audio_chunks:\n",
    "            \n",
    "            seg_len = len(seg)\n",
    "    \n",
    "            if seg_len >= seg_thresh:\n",
    "                seg_standardized = seg[0:seg_thresh]\n",
    "            else:\n",
    "                seg_standardized = seg + AudioSegment.silent(duration=(seg_thresh - seg_len))\n",
    "                \n",
    "            out_file = path / f\"{label}_word{counter}.wav\"\n",
    "            counter += 1\n",
    "            seg_standardized.export(out_file, format=\"wav\")"
   ]
  },
  {
   "cell_type": "code",
   "execution_count": 28,
   "metadata": {},
   "outputs": [
    {
     "name": "stdout",
     "output_type": "stream",
     "text": [
      "Training words created\n",
      "Validaiton words created\n",
      "Testing words created\n"
     ]
    }
   ],
   "source": [
    "#Uncomment to create the files for the dataset folders\n",
    "\n",
    "# generate_model_data(train_dir, train_files)\n",
    "# print(\"Training words created\")\n",
    "# generate_model_data(val_dir, val_files)\n",
    "# print(\"Validaiton words created\")\n",
    "# generate_model_data(test_dir, test_files)\n",
    "# print(\"Testing words created\")"
   ]
  },
  {
   "cell_type": "code",
   "execution_count": 68,
   "metadata": {},
   "outputs": [],
   "source": [
    "train_data_dir = Path('C:/Users/omar_/Documents/cockatoos/data/train')\n",
    "val_data_dir = Path('C:/Users/omar_/Documents/cockatoos/data/val')\n",
    "test_data_dir = Path('C:/Users/omar_/Documents/cockatoos/data/test')\n",
    "\n",
    "train_data = MFCCDataset(train_data_dir,True)\n",
    "val_data = MFCCDataset(val_data_dir,True)\n",
    "test_data = MFCCDataset(test_data_dir,True)"
   ]
  }
 ],
 "metadata": {
  "kernelspec": {
   "display_name": "Python 3",
   "language": "python",
   "name": "python3"
  },
  "language_info": {
   "codemirror_mode": {
    "name": "ipython",
    "version": 3
   },
   "file_extension": ".py",
   "mimetype": "text/x-python",
   "name": "python",
   "nbconvert_exporter": "python",
   "pygments_lexer": "ipython3",
   "version": "3.7.6"
  }
 },
 "nbformat": 4,
 "nbformat_minor": 4
}
