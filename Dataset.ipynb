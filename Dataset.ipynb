{
 "cells": [
  {
   "cell_type": "code",
   "execution_count": 31,
   "metadata": {},
   "outputs": [],
   "source": [
    "import pandas as pd       \n",
    "import os \n",
    "import math \n",
    "import numpy as np\n",
    "import matplotlib.pyplot as plt\n",
    "import librosa\n",
    "import torch\n",
    "from torch.utils.data import Dataset, DataLoader\n",
    "from pathlib import Path"
   ]
  },
  {
   "cell_type": "code",
   "execution_count": 48,
   "metadata": {},
   "outputs": [],
   "source": [
    "class MFCCDataset(Dataset):\n",
    "    def __init__(self, root_dir):\n",
    "        self.root_dir = root_dir\n",
    "\n",
    "    def __len__(self):\n",
    "        return len(os.listdir(root_dir)) * 2\n",
    "\n",
    "    def __getitem__(self, idx):\n",
    "        \n",
    "        noise = False\n",
    "        num_files = len(os.listdir(self.root_dir))\n",
    "        \n",
    "        data_id = idx\n",
    "        \n",
    "        if idx >= num_files:\n",
    "            data_id = idx - num_files\n",
    "            noise = True\n",
    "            \n",
    "        \n",
    "        f = os.listdir(self.root_dir)[data_id]\n",
    "        y, sr = librosa.load(self.root_dir / f)\n",
    "        m = librosa.feature.mfcc(y=y, sr=sr)\n",
    "        \n",
    "        \n",
    "        if noise:\n",
    "            n = np.random.normal(0,1, m.shape)\n",
    "            m += n\n",
    "        \n",
    "        m_standardized = np.zeros(m.shape)\n",
    "        for b in range(m.shape[0]):\n",
    "            m_slice = m[b,:]\n",
    "            centered = m_slice - np.mean(m_slice)\n",
    "            if np.std(centered) != 0:\n",
    "                centered_scaled = centered / np.std(centered)\n",
    "                \n",
    "            m_standardized[b,:] = centered_scaled\n",
    "            \n",
    "        delta1 = librosa.feature.delta(m_standardized, order=1)\n",
    "        delta2 = librosa.feature.delta(m_standardized, order=2)\n",
    "        mfcc_data = np.stack((m_standardized,delta1,delta2))\n",
    "        \n",
    "        return torch.tensor(mfcc_data)"
   ]
  },
  {
   "cell_type": "code",
   "execution_count": 49,
   "metadata": {},
   "outputs": [],
   "source": [
    "train_data_dir = Path('C:/Users/omar_/Documents/cockatoos/data/accent_samples/recordings/recordings_standardized')\n",
    "train_data = MFCCDataset(train_data_dir)"
   ]
  },
  {
   "cell_type": "code",
   "execution_count": null,
   "metadata": {},
   "outputs": [],
   "source": [
    "for i in range(96):\n",
    "    print(f\"{i} {train_data[i].shape}\")"
   ]
  }
 ],
 "metadata": {
  "kernelspec": {
   "display_name": "Python 3",
   "language": "python",
   "name": "python3"
  },
  "language_info": {
   "codemirror_mode": {
    "name": "ipython",
    "version": 3
   },
   "file_extension": ".py",
   "mimetype": "text/x-python",
   "name": "python",
   "nbconvert_exporter": "python",
   "pygments_lexer": "ipython3",
   "version": "3.7.6"
  }
 },
 "nbformat": 4,
 "nbformat_minor": 4
}
